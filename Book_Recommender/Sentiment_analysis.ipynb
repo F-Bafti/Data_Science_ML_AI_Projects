{
 "cells": [
  {
   "cell_type": "markdown",
   "id": "53eab5b8",
   "metadata": {},
   "source": [
    "# Sentiment Analysis\n",
    "\n",
    "Using huggin_face fine_tuned model for this task"
   ]
  },
  {
   "cell_type": "code",
   "execution_count": 2,
   "id": "63f41c7b",
   "metadata": {},
   "outputs": [],
   "source": [
    "import pandas as pd\n",
    "import numpy as np"
   ]
  },
  {
   "cell_type": "code",
   "execution_count": 3,
   "id": "b74560a1",
   "metadata": {},
   "outputs": [
    {
     "name": "stderr",
     "output_type": "stream",
     "text": [
      "/home/fahimeh/miniconda3/envs/mlclean/lib/python3.10/site-packages/tqdm/auto.py:21: TqdmWarning: IProgress not found. Please update jupyter and ipywidgets. See https://ipywidgets.readthedocs.io/en/stable/user_install.html\n",
      "  from .autonotebook import tqdm as notebook_tqdm\n",
      "Device set to use cpu\n",
      "/home/fahimeh/miniconda3/envs/mlclean/lib/python3.10/site-packages/transformers/pipelines/text_classification.py:111: UserWarning: `return_all_scores` is now deprecated,  if want a similar functionality use `top_k=None` instead of `return_all_scores=True` or `top_k=1` instead of `return_all_scores=False`.\n",
      "  warnings.warn(\n"
     ]
    },
    {
     "data": {
      "text/plain": [
       "[[{'label': 'anger', 'score': 0.004419787786900997},\n",
       "  {'label': 'disgust', 'score': 0.0016119900392368436},\n",
       "  {'label': 'fear', 'score': 0.00041385277290828526},\n",
       "  {'label': 'joy', 'score': 0.9771687984466553},\n",
       "  {'label': 'neutral', 'score': 0.005764589179307222},\n",
       "  {'label': 'sadness', 'score': 0.002092392183840275},\n",
       "  {'label': 'surprise', 'score': 0.008528691716492176}]]"
      ]
     },
     "execution_count": 3,
     "metadata": {},
     "output_type": "execute_result"
    }
   ],
   "source": [
    "from transformers import pipeline\n",
    "classifier = pipeline(\"text-classification\", model=\"j-hartmann/emotion-english-distilroberta-base\", return_all_scores=True)\n",
    "classifier(\"I love this!\")"
   ]
  },
  {
   "cell_type": "markdown",
   "id": "9f91cbbd",
   "metadata": {},
   "source": [
    "#### Now the question is that how to perform sentiment analysis for the descriptions we have? For example should we apply it on the whole description? "
   ]
  },
  {
   "cell_type": "code",
   "execution_count": 4,
   "id": "78297de5",
   "metadata": {},
   "outputs": [],
   "source": [
    "books = pd.read_csv(\"books_with_categories.csv\")"
   ]
  },
  {
   "cell_type": "code",
   "execution_count": 5,
   "id": "7df9a062",
   "metadata": {},
   "outputs": [
    {
     "name": "stdout",
     "output_type": "stream",
     "text": [
      "A NOVEL THAT READERS and critics have been eagerly anticipating for over a\n",
      "decade, Gilead is an astonishingly imagined story of remarkable lives. John Ames\n",
      "is a preacher, the son of a preacher and the grandson (both maternal and\n",
      "paternal) of preachers. It’s 1956 in Gilead, Iowa, towards the end of the\n",
      "Reverend Ames’s life, and he is absorbed in recording his family’s story, a\n",
      "legacy for the young son he will never see grow up. Haunted by his grandfather’s\n",
      "presence, John tells of the rift between his grandfather and his father: the\n",
      "elder, an angry visionary who fought for the abolitionist cause, and his son, an\n",
      "ardent pacifist. He is troubled, too, by his prodigal namesake, Jack (John Ames)\n",
      "Boughton, his best friend’s lost son who returns to Gilead searching for\n",
      "forgiveness and redemption. Told in John Ames’s joyous, rambling voice that\n",
      "finds beauty, humour and truth in the smallest of life’s details, Gilead is a\n",
      "song of celebration and acceptance of the best and the worst the world has to\n",
      "offer. At its heart is a tale of the sacred bonds between fathers and sons,\n",
      "pitch-perfect in style and story, set to dazzle critics and readers alike.\n"
     ]
    },
    {
     "data": {
      "text/plain": [
       "[[{'label': 'anger', 'score': 0.003935148939490318},\n",
       "  {'label': 'disgust', 'score': 0.019100705161690712},\n",
       "  {'label': 'fear', 'score': 0.654839813709259},\n",
       "  {'label': 'joy', 'score': 0.015161501243710518},\n",
       "  {'label': 'neutral', 'score': 0.16985264420509338},\n",
       "  {'label': 'sadness', 'score': 0.11640956997871399},\n",
       "  {'label': 'surprise', 'score': 0.020700659602880478}]]"
      ]
     },
     "execution_count": 5,
     "metadata": {},
     "output_type": "execute_result"
    }
   ],
   "source": [
    "import textwrap\n",
    "\n",
    "print(textwrap.fill(books.loc[0, 'description'], width=80))\n",
    "classifier(books.loc[0, 'description'])"
   ]
  },
  {
   "cell_type": "code",
   "execution_count": 6,
   "id": "da913973",
   "metadata": {},
   "outputs": [
    {
     "data": {
      "text/plain": [
       "[[{'label': 'anger', 'score': 0.001562298508360982},\n",
       "  {'label': 'disgust', 'score': 0.00043948637903667986},\n",
       "  {'label': 'fear', 'score': 0.986592710018158},\n",
       "  {'label': 'joy', 'score': 0.000990753062069416},\n",
       "  {'label': 'neutral', 'score': 0.001084391144104302},\n",
       "  {'label': 'sadness', 'score': 0.007464968599379063},\n",
       "  {'label': 'surprise', 'score': 0.0018653932493180037}]]"
      ]
     },
     "execution_count": 6,
     "metadata": {},
     "output_type": "execute_result"
    }
   ],
   "source": [
    "classifier(\"Haunted by his grandfather’s presence, John tells of the rift between his grandfather and his father: \\\n",
    "           the elder, an angry visionary who fought for the abolitionist cause, and his son, anardent pacifist\")"
   ]
  },
  {
   "cell_type": "markdown",
   "id": "9d441914",
   "metadata": {},
   "source": [
    "Lets split the text to sentences becasue maybe it is better to dont assign only one emotion to the whole text"
   ]
  },
  {
   "cell_type": "code",
   "execution_count": 7,
   "id": "104d8800",
   "metadata": {},
   "outputs": [
    {
     "data": {
      "text/plain": [
       "[[{'label': 'anger', 'score': 0.009156367741525173},\n",
       "  {'label': 'disgust', 'score': 0.0026284796185791492},\n",
       "  {'label': 'fear', 'score': 0.06816233694553375},\n",
       "  {'label': 'joy', 'score': 0.04794260486960411},\n",
       "  {'label': 'neutral', 'score': 0.14038586616516113},\n",
       "  {'label': 'sadness', 'score': 0.0021221658680588007},\n",
       "  {'label': 'surprise', 'score': 0.7296021580696106}],\n",
       " [{'label': 'anger', 'score': 0.04047833010554314},\n",
       "  {'label': 'disgust', 'score': 0.2735915184020996},\n",
       "  {'label': 'fear', 'score': 0.006879063323140144},\n",
       "  {'label': 'joy', 'score': 0.10908326506614685},\n",
       "  {'label': 'neutral', 'score': 0.4493700861930847},\n",
       "  {'label': 'sadness', 'score': 0.09362751990556717},\n",
       "  {'label': 'surprise', 'score': 0.026970162987709045}],\n",
       " [{'label': 'anger', 'score': 0.011031902395188808},\n",
       "  {'label': 'disgust', 'score': 0.04342273622751236},\n",
       "  {'label': 'fear', 'score': 0.01408410258591175},\n",
       "  {'label': 'joy', 'score': 0.014211490750312805},\n",
       "  {'label': 'neutral', 'score': 0.6462157368659973},\n",
       "  {'label': 'sadness', 'score': 0.24273350834846497},\n",
       "  {'label': 'surprise', 'score': 0.028300566598773003}],\n",
       " [{'label': 'anger', 'score': 0.03219093754887581},\n",
       "  {'label': 'disgust', 'score': 0.00843182671815157},\n",
       "  {'label': 'fear', 'score': 0.9281682372093201},\n",
       "  {'label': 'joy', 'score': 0.0010455831652507186},\n",
       "  {'label': 'neutral', 'score': 0.012808676809072495},\n",
       "  {'label': 'sadness', 'score': 0.00875687412917614},\n",
       "  {'label': 'surprise', 'score': 0.008597913198173046}],\n",
       " [{'label': 'anger', 'score': 0.0018428886542096734},\n",
       "  {'label': 'disgust', 'score': 0.00648058345541358},\n",
       "  {'label': 'fear', 'score': 0.005393982399255037},\n",
       "  {'label': 'joy', 'score': 0.001733877114020288},\n",
       "  {'label': 'neutral', 'score': 0.015104134567081928},\n",
       "  {'label': 'sadness', 'score': 0.9671575427055359},\n",
       "  {'label': 'surprise', 'score': 0.0022869398817420006}],\n",
       " [{'label': 'anger', 'score': 0.005024952348321676},\n",
       "  {'label': 'disgust', 'score': 0.037716884166002274},\n",
       "  {'label': 'fear', 'score': 0.0005423048278316855},\n",
       "  {'label': 'joy', 'score': 0.9327983260154724},\n",
       "  {'label': 'neutral', 'score': 0.015891801565885544},\n",
       "  {'label': 'sadness', 'score': 0.0064444830641150475},\n",
       "  {'label': 'surprise', 'score': 0.0015812047058716416}],\n",
       " [{'label': 'anger', 'score': 0.004821302369236946},\n",
       "  {'label': 'disgust', 'score': 0.006512200925499201},\n",
       "  {'label': 'fear', 'score': 0.0035290156956762075},\n",
       "  {'label': 'joy', 'score': 0.6528710722923279},\n",
       "  {'label': 'neutral', 'score': 0.25427448749542236},\n",
       "  {'label': 'sadness', 'score': 0.00990898534655571},\n",
       "  {'label': 'surprise', 'score': 0.06808292865753174}],\n",
       " [{'label': 'anger', 'score': 0.06413359194993973},\n",
       "  {'label': 'disgust', 'score': 0.10400668531656265},\n",
       "  {'label': 'fear', 'score': 0.05136280506849289},\n",
       "  {'label': 'joy', 'score': 0.0405643992125988},\n",
       "  {'label': 'neutral', 'score': 0.5494768619537354},\n",
       "  {'label': 'sadness', 'score': 0.11169016361236572},\n",
       "  {'label': 'surprise', 'score': 0.07876545190811157}]]"
      ]
     },
     "execution_count": 7,
     "metadata": {},
     "output_type": "execute_result"
    }
   ],
   "source": [
    "preds = classifier(books.loc[0, 'description'].split(\".\"))\n",
    "preds"
   ]
  },
  {
   "cell_type": "markdown",
   "id": "a3fee4fe",
   "metadata": {},
   "source": [
    "Lets take from each of the emotions the highest score we have for the whole description"
   ]
  },
  {
   "cell_type": "code",
   "execution_count": 8,
   "id": "4de56265",
   "metadata": {},
   "outputs": [],
   "source": [
    "def calculate_max_emotion_scores(sentiment_analysis):\n",
    "\n",
    "    highest_scores = {'anger': 0., 'disgust': 0., 'fear': 0., 'joy': 0., 'neutral': 0., 'sadness': 0., 'surprise': 0.}\n",
    "\n",
    "    for l in sentiment_analysis:\n",
    "        for dic in l:\n",
    "            label = dic['label']\n",
    "            score = dic['score']\n",
    "            if score > highest_scores[label]:\n",
    "                highest_scores[label] = score\n",
    "    return highest_scores"
   ]
  },
  {
   "cell_type": "code",
   "execution_count": 9,
   "id": "b7a0b1ca",
   "metadata": {},
   "outputs": [
    {
     "data": {
      "text/plain": [
       "{'anger': 0.06413359194993973,\n",
       " 'disgust': 0.2735915184020996,\n",
       " 'fear': 0.9281682372093201,\n",
       " 'joy': 0.9327983260154724,\n",
       " 'neutral': 0.6462157368659973,\n",
       " 'sadness': 0.9671575427055359,\n",
       " 'surprise': 0.7296021580696106}"
      ]
     },
     "execution_count": 9,
     "metadata": {},
     "output_type": "execute_result"
    }
   ],
   "source": [
    "calculate_max_emotion_scores(preds)"
   ]
  },
  {
   "cell_type": "markdown",
   "id": "5215ef74",
   "metadata": {},
   "source": [
    "#### Now lets do it for all the books"
   ]
  },
  {
   "cell_type": "code",
   "execution_count": 10,
   "id": "08a7be63",
   "metadata": {},
   "outputs": [],
   "source": [
    "emptions_for_each_book = []\n",
    "isbn13 = []\n",
    "\n",
    "for i in range(len(books)):\n",
    "    isbn13.append(books.loc[i, 'isbn13'])\n",
    "    sentences = books.loc[i, 'description'].split(\".\")\n",
    "    preds = classifier(sentences)\n",
    "    max_scores = calculate_max_emotion_scores(preds)\n",
    "    emptions_for_each_book.append(max_scores)\n",
    "    "
   ]
  },
  {
   "cell_type": "code",
   "execution_count": 11,
   "id": "5c71b429",
   "metadata": {},
   "outputs": [],
   "source": [
    "df = pd.DataFrame(emptions_for_each_book)\n",
    "df['isbn13'] = isbn13"
   ]
  },
  {
   "cell_type": "markdown",
   "id": "9d9e2a49",
   "metadata": {},
   "source": [
    "Now lets write a function to do this for all the books"
   ]
  },
  {
   "cell_type": "code",
   "execution_count": 12,
   "id": "1b691882",
   "metadata": {},
   "outputs": [
    {
     "data": {
      "text/html": [
       "<div>\n",
       "<style scoped>\n",
       "    .dataframe tbody tr th:only-of-type {\n",
       "        vertical-align: middle;\n",
       "    }\n",
       "\n",
       "    .dataframe tbody tr th {\n",
       "        vertical-align: top;\n",
       "    }\n",
       "\n",
       "    .dataframe thead th {\n",
       "        text-align: right;\n",
       "    }\n",
       "</style>\n",
       "<table border=\"1\" class=\"dataframe\">\n",
       "  <thead>\n",
       "    <tr style=\"text-align: right;\">\n",
       "      <th></th>\n",
       "      <th>Unnamed: 0</th>\n",
       "      <th>isbn13</th>\n",
       "      <th>isbn10</th>\n",
       "      <th>title</th>\n",
       "      <th>authors</th>\n",
       "      <th>categories</th>\n",
       "      <th>thumbnail</th>\n",
       "      <th>description</th>\n",
       "      <th>published_year</th>\n",
       "      <th>average_rating</th>\n",
       "      <th>...</th>\n",
       "      <th>title_and_subtitle</th>\n",
       "      <th>tag_description</th>\n",
       "      <th>simple_categories</th>\n",
       "      <th>anger</th>\n",
       "      <th>disgust</th>\n",
       "      <th>fear</th>\n",
       "      <th>joy</th>\n",
       "      <th>neutral</th>\n",
       "      <th>sadness</th>\n",
       "      <th>surprise</th>\n",
       "    </tr>\n",
       "  </thead>\n",
       "  <tbody>\n",
       "    <tr>\n",
       "      <th>0</th>\n",
       "      <td>0</td>\n",
       "      <td>9780002005883</td>\n",
       "      <td>0002005883</td>\n",
       "      <td>Gilead</td>\n",
       "      <td>Marilynne Robinson</td>\n",
       "      <td>Fiction</td>\n",
       "      <td>http://books.google.com/books/content?id=KQZCP...</td>\n",
       "      <td>A NOVEL THAT READERS and critics have been eag...</td>\n",
       "      <td>2004.0</td>\n",
       "      <td>3.85</td>\n",
       "      <td>...</td>\n",
       "      <td>Gilead</td>\n",
       "      <td>9780002005883_A NOVEL THAT READERS and critics...</td>\n",
       "      <td>Fiction</td>\n",
       "      <td>0.064134</td>\n",
       "      <td>0.273592</td>\n",
       "      <td>0.928168</td>\n",
       "      <td>0.932798</td>\n",
       "      <td>0.646216</td>\n",
       "      <td>0.967158</td>\n",
       "      <td>0.729602</td>\n",
       "    </tr>\n",
       "    <tr>\n",
       "      <th>1</th>\n",
       "      <td>1</td>\n",
       "      <td>9780002261982</td>\n",
       "      <td>0002261987</td>\n",
       "      <td>Spider's Web</td>\n",
       "      <td>Charles Osborne;Agatha Christie</td>\n",
       "      <td>Detective and mystery stories</td>\n",
       "      <td>http://books.google.com/books/content?id=gA5GP...</td>\n",
       "      <td>A new 'Christie for Christmas' -- a full-lengt...</td>\n",
       "      <td>2000.0</td>\n",
       "      <td>3.83</td>\n",
       "      <td>...</td>\n",
       "      <td>Spider's Web_A Novel</td>\n",
       "      <td>9780002261982_A new 'Christie for Christmas' -...</td>\n",
       "      <td>Fiction</td>\n",
       "      <td>0.612619</td>\n",
       "      <td>0.348285</td>\n",
       "      <td>0.942528</td>\n",
       "      <td>0.704422</td>\n",
       "      <td>0.887940</td>\n",
       "      <td>0.111690</td>\n",
       "      <td>0.252546</td>\n",
       "    </tr>\n",
       "    <tr>\n",
       "      <th>2</th>\n",
       "      <td>2</td>\n",
       "      <td>9780006178736</td>\n",
       "      <td>0006178731</td>\n",
       "      <td>Rage of angels</td>\n",
       "      <td>Sidney Sheldon</td>\n",
       "      <td>Fiction</td>\n",
       "      <td>http://books.google.com/books/content?id=FKo2T...</td>\n",
       "      <td>A memorable, mesmerizing heroine Jennifer -- b...</td>\n",
       "      <td>1993.0</td>\n",
       "      <td>3.93</td>\n",
       "      <td>...</td>\n",
       "      <td>Rage of angels</td>\n",
       "      <td>9780006178736_A memorable, mesmerizing heroine...</td>\n",
       "      <td>Fiction</td>\n",
       "      <td>0.064134</td>\n",
       "      <td>0.104007</td>\n",
       "      <td>0.972321</td>\n",
       "      <td>0.767238</td>\n",
       "      <td>0.549477</td>\n",
       "      <td>0.111690</td>\n",
       "      <td>0.078765</td>\n",
       "    </tr>\n",
       "    <tr>\n",
       "      <th>3</th>\n",
       "      <td>3</td>\n",
       "      <td>9780006280897</td>\n",
       "      <td>0006280897</td>\n",
       "      <td>The Four Loves</td>\n",
       "      <td>Clive Staples Lewis</td>\n",
       "      <td>Christian life</td>\n",
       "      <td>http://books.google.com/books/content?id=XhQ5X...</td>\n",
       "      <td>Lewis' work on the nature of love divides love...</td>\n",
       "      <td>2002.0</td>\n",
       "      <td>4.15</td>\n",
       "      <td>...</td>\n",
       "      <td>The Four Loves</td>\n",
       "      <td>9780006280897_Lewis' work on the nature of lov...</td>\n",
       "      <td>Nonfiction</td>\n",
       "      <td>0.351484</td>\n",
       "      <td>0.150722</td>\n",
       "      <td>0.360706</td>\n",
       "      <td>0.251881</td>\n",
       "      <td>0.732685</td>\n",
       "      <td>0.111690</td>\n",
       "      <td>0.078765</td>\n",
       "    </tr>\n",
       "    <tr>\n",
       "      <th>4</th>\n",
       "      <td>4</td>\n",
       "      <td>9780006280934</td>\n",
       "      <td>0006280935</td>\n",
       "      <td>The Problem of Pain</td>\n",
       "      <td>Clive Staples Lewis</td>\n",
       "      <td>Christian life</td>\n",
       "      <td>http://books.google.com/books/content?id=Kk-uV...</td>\n",
       "      <td>\"In The Problem of Pain, C.S. Lewis, one of th...</td>\n",
       "      <td>2002.0</td>\n",
       "      <td>4.09</td>\n",
       "      <td>...</td>\n",
       "      <td>The Problem of Pain</td>\n",
       "      <td>9780006280934_\"In The Problem of Pain, C.S. Le...</td>\n",
       "      <td>Nonfiction</td>\n",
       "      <td>0.081413</td>\n",
       "      <td>0.184495</td>\n",
       "      <td>0.095043</td>\n",
       "      <td>0.040564</td>\n",
       "      <td>0.884390</td>\n",
       "      <td>0.475881</td>\n",
       "      <td>0.078765</td>\n",
       "    </tr>\n",
       "  </tbody>\n",
       "</table>\n",
       "<p>5 rows × 22 columns</p>\n",
       "</div>"
      ],
      "text/plain": [
       "   Unnamed: 0         isbn13      isbn10                title  \\\n",
       "0           0  9780002005883  0002005883               Gilead   \n",
       "1           1  9780002261982  0002261987         Spider's Web   \n",
       "2           2  9780006178736  0006178731       Rage of angels   \n",
       "3           3  9780006280897  0006280897       The Four Loves   \n",
       "4           4  9780006280934  0006280935  The Problem of Pain   \n",
       "\n",
       "                           authors                     categories  \\\n",
       "0               Marilynne Robinson                        Fiction   \n",
       "1  Charles Osborne;Agatha Christie  Detective and mystery stories   \n",
       "2                   Sidney Sheldon                        Fiction   \n",
       "3              Clive Staples Lewis                 Christian life   \n",
       "4              Clive Staples Lewis                 Christian life   \n",
       "\n",
       "                                           thumbnail  \\\n",
       "0  http://books.google.com/books/content?id=KQZCP...   \n",
       "1  http://books.google.com/books/content?id=gA5GP...   \n",
       "2  http://books.google.com/books/content?id=FKo2T...   \n",
       "3  http://books.google.com/books/content?id=XhQ5X...   \n",
       "4  http://books.google.com/books/content?id=Kk-uV...   \n",
       "\n",
       "                                         description  published_year  \\\n",
       "0  A NOVEL THAT READERS and critics have been eag...          2004.0   \n",
       "1  A new 'Christie for Christmas' -- a full-lengt...          2000.0   \n",
       "2  A memorable, mesmerizing heroine Jennifer -- b...          1993.0   \n",
       "3  Lewis' work on the nature of love divides love...          2002.0   \n",
       "4  \"In The Problem of Pain, C.S. Lewis, one of th...          2002.0   \n",
       "\n",
       "   average_rating  ...    title_and_subtitle  \\\n",
       "0            3.85  ...                Gilead   \n",
       "1            3.83  ...  Spider's Web_A Novel   \n",
       "2            3.93  ...        Rage of angels   \n",
       "3            4.15  ...        The Four Loves   \n",
       "4            4.09  ...   The Problem of Pain   \n",
       "\n",
       "                                     tag_description simple_categories  \\\n",
       "0  9780002005883_A NOVEL THAT READERS and critics...           Fiction   \n",
       "1  9780002261982_A new 'Christie for Christmas' -...           Fiction   \n",
       "2  9780006178736_A memorable, mesmerizing heroine...           Fiction   \n",
       "3  9780006280897_Lewis' work on the nature of lov...        Nonfiction   \n",
       "4  9780006280934_\"In The Problem of Pain, C.S. Le...        Nonfiction   \n",
       "\n",
       "      anger   disgust      fear       joy   neutral   sadness  surprise  \n",
       "0  0.064134  0.273592  0.928168  0.932798  0.646216  0.967158  0.729602  \n",
       "1  0.612619  0.348285  0.942528  0.704422  0.887940  0.111690  0.252546  \n",
       "2  0.064134  0.104007  0.972321  0.767238  0.549477  0.111690  0.078765  \n",
       "3  0.351484  0.150722  0.360706  0.251881  0.732685  0.111690  0.078765  \n",
       "4  0.081413  0.184495  0.095043  0.040564  0.884390  0.475881  0.078765  \n",
       "\n",
       "[5 rows x 22 columns]"
      ]
     },
     "execution_count": 12,
     "metadata": {},
     "output_type": "execute_result"
    }
   ],
   "source": [
    "books = pd.merge(books, df, on=\"isbn13\")\n",
    "books.head()"
   ]
  },
  {
   "cell_type": "code",
   "execution_count": 13,
   "id": "ebea3495",
   "metadata": {},
   "outputs": [],
   "source": [
    "books.to_csv('books_with_emotion.csv')"
   ]
  },
  {
   "cell_type": "code",
   "execution_count": 14,
   "id": "2dc68122",
   "metadata": {},
   "outputs": [
    {
     "data": {
      "text/plain": [
       "array(['Fiction', 'Nonfiction', \"Children's Fiction\",\n",
       "       \"Children's Nonfiction\"], dtype=object)"
      ]
     },
     "execution_count": 14,
     "metadata": {},
     "output_type": "execute_result"
    }
   ],
   "source": [
    "books.simple_categories.unique()"
   ]
  },
  {
   "cell_type": "markdown",
   "id": "a11b9141",
   "metadata": {},
   "source": []
  }
 ],
 "metadata": {
  "kernelspec": {
   "display_name": "mlclean",
   "language": "python",
   "name": "python3"
  },
  "language_info": {
   "codemirror_mode": {
    "name": "ipython",
    "version": 3
   },
   "file_extension": ".py",
   "mimetype": "text/x-python",
   "name": "python",
   "nbconvert_exporter": "python",
   "pygments_lexer": "ipython3",
   "version": "3.10.19"
  }
 },
 "nbformat": 4,
 "nbformat_minor": 5
}
