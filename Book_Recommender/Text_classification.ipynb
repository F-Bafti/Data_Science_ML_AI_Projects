{
 "cells": [
  {
   "cell_type": "markdown",
   "id": "9962739d",
   "metadata": {},
   "source": []
  },
  {
   "cell_type": "code",
   "execution_count": 2,
   "id": "1d01f8d6",
   "metadata": {},
   "outputs": [],
   "source": [
    "import pandas as pd\n",
    "import numpy as np"
   ]
  },
  {
   "cell_type": "code",
   "execution_count": 3,
   "id": "bbe72fe6",
   "metadata": {},
   "outputs": [
    {
     "data": {
      "text/html": [
       "<div>\n",
       "<style scoped>\n",
       "    .dataframe tbody tr th:only-of-type {\n",
       "        vertical-align: middle;\n",
       "    }\n",
       "\n",
       "    .dataframe tbody tr th {\n",
       "        vertical-align: top;\n",
       "    }\n",
       "\n",
       "    .dataframe thead th {\n",
       "        text-align: right;\n",
       "    }\n",
       "</style>\n",
       "<table border=\"1\" class=\"dataframe\">\n",
       "  <thead>\n",
       "    <tr style=\"text-align: right;\">\n",
       "      <th></th>\n",
       "      <th>isbn13</th>\n",
       "      <th>isbn10</th>\n",
       "      <th>title</th>\n",
       "      <th>authors</th>\n",
       "      <th>categories</th>\n",
       "      <th>thumbnail</th>\n",
       "      <th>description</th>\n",
       "      <th>published_year</th>\n",
       "      <th>average_rating</th>\n",
       "      <th>num_pages</th>\n",
       "      <th>ratings_count</th>\n",
       "      <th>title_and_subtitle</th>\n",
       "      <th>tag_description</th>\n",
       "    </tr>\n",
       "  </thead>\n",
       "  <tbody>\n",
       "    <tr>\n",
       "      <th>0</th>\n",
       "      <td>9780002005883</td>\n",
       "      <td>0002005883</td>\n",
       "      <td>Gilead</td>\n",
       "      <td>Marilynne Robinson</td>\n",
       "      <td>Fiction</td>\n",
       "      <td>http://books.google.com/books/content?id=KQZCP...</td>\n",
       "      <td>A NOVEL THAT READERS and critics have been eag...</td>\n",
       "      <td>2004.0</td>\n",
       "      <td>3.85</td>\n",
       "      <td>247.0</td>\n",
       "      <td>361.0</td>\n",
       "      <td>Gilead</td>\n",
       "      <td>9780002005883_A NOVEL THAT READERS and critics...</td>\n",
       "    </tr>\n",
       "    <tr>\n",
       "      <th>1</th>\n",
       "      <td>9780002261982</td>\n",
       "      <td>0002261987</td>\n",
       "      <td>Spider's Web</td>\n",
       "      <td>Charles Osborne;Agatha Christie</td>\n",
       "      <td>Detective and mystery stories</td>\n",
       "      <td>http://books.google.com/books/content?id=gA5GP...</td>\n",
       "      <td>A new 'Christie for Christmas' -- a full-lengt...</td>\n",
       "      <td>2000.0</td>\n",
       "      <td>3.83</td>\n",
       "      <td>241.0</td>\n",
       "      <td>5164.0</td>\n",
       "      <td>Spider's Web_A Novel</td>\n",
       "      <td>9780002261982_A new 'Christie for Christmas' -...</td>\n",
       "    </tr>\n",
       "    <tr>\n",
       "      <th>2</th>\n",
       "      <td>9780006178736</td>\n",
       "      <td>0006178731</td>\n",
       "      <td>Rage of angels</td>\n",
       "      <td>Sidney Sheldon</td>\n",
       "      <td>Fiction</td>\n",
       "      <td>http://books.google.com/books/content?id=FKo2T...</td>\n",
       "      <td>A memorable, mesmerizing heroine Jennifer -- b...</td>\n",
       "      <td>1993.0</td>\n",
       "      <td>3.93</td>\n",
       "      <td>512.0</td>\n",
       "      <td>29532.0</td>\n",
       "      <td>Rage of angels</td>\n",
       "      <td>9780006178736_A memorable, mesmerizing heroine...</td>\n",
       "    </tr>\n",
       "    <tr>\n",
       "      <th>3</th>\n",
       "      <td>9780006280897</td>\n",
       "      <td>0006280897</td>\n",
       "      <td>The Four Loves</td>\n",
       "      <td>Clive Staples Lewis</td>\n",
       "      <td>Christian life</td>\n",
       "      <td>http://books.google.com/books/content?id=XhQ5X...</td>\n",
       "      <td>Lewis' work on the nature of love divides love...</td>\n",
       "      <td>2002.0</td>\n",
       "      <td>4.15</td>\n",
       "      <td>170.0</td>\n",
       "      <td>33684.0</td>\n",
       "      <td>The Four Loves</td>\n",
       "      <td>9780006280897_Lewis' work on the nature of lov...</td>\n",
       "    </tr>\n",
       "    <tr>\n",
       "      <th>4</th>\n",
       "      <td>9780006280934</td>\n",
       "      <td>0006280935</td>\n",
       "      <td>The Problem of Pain</td>\n",
       "      <td>Clive Staples Lewis</td>\n",
       "      <td>Christian life</td>\n",
       "      <td>http://books.google.com/books/content?id=Kk-uV...</td>\n",
       "      <td>\"In The Problem of Pain, C.S. Lewis, one of th...</td>\n",
       "      <td>2002.0</td>\n",
       "      <td>4.09</td>\n",
       "      <td>176.0</td>\n",
       "      <td>37569.0</td>\n",
       "      <td>The Problem of Pain</td>\n",
       "      <td>9780006280934_\"In The Problem of Pain, C.S. Le...</td>\n",
       "    </tr>\n",
       "  </tbody>\n",
       "</table>\n",
       "</div>"
      ],
      "text/plain": [
       "          isbn13      isbn10                title  \\\n",
       "0  9780002005883  0002005883               Gilead   \n",
       "1  9780002261982  0002261987         Spider's Web   \n",
       "2  9780006178736  0006178731       Rage of angels   \n",
       "3  9780006280897  0006280897       The Four Loves   \n",
       "4  9780006280934  0006280935  The Problem of Pain   \n",
       "\n",
       "                           authors                     categories  \\\n",
       "0               Marilynne Robinson                        Fiction   \n",
       "1  Charles Osborne;Agatha Christie  Detective and mystery stories   \n",
       "2                   Sidney Sheldon                        Fiction   \n",
       "3              Clive Staples Lewis                 Christian life   \n",
       "4              Clive Staples Lewis                 Christian life   \n",
       "\n",
       "                                           thumbnail  \\\n",
       "0  http://books.google.com/books/content?id=KQZCP...   \n",
       "1  http://books.google.com/books/content?id=gA5GP...   \n",
       "2  http://books.google.com/books/content?id=FKo2T...   \n",
       "3  http://books.google.com/books/content?id=XhQ5X...   \n",
       "4  http://books.google.com/books/content?id=Kk-uV...   \n",
       "\n",
       "                                         description  published_year  \\\n",
       "0  A NOVEL THAT READERS and critics have been eag...          2004.0   \n",
       "1  A new 'Christie for Christmas' -- a full-lengt...          2000.0   \n",
       "2  A memorable, mesmerizing heroine Jennifer -- b...          1993.0   \n",
       "3  Lewis' work on the nature of love divides love...          2002.0   \n",
       "4  \"In The Problem of Pain, C.S. Lewis, one of th...          2002.0   \n",
       "\n",
       "   average_rating  num_pages  ratings_count    title_and_subtitle  \\\n",
       "0            3.85      247.0          361.0                Gilead   \n",
       "1            3.83      241.0         5164.0  Spider's Web_A Novel   \n",
       "2            3.93      512.0        29532.0        Rage of angels   \n",
       "3            4.15      170.0        33684.0        The Four Loves   \n",
       "4            4.09      176.0        37569.0   The Problem of Pain   \n",
       "\n",
       "                                     tag_description  \n",
       "0  9780002005883_A NOVEL THAT READERS and critics...  \n",
       "1  9780002261982_A new 'Christie for Christmas' -...  \n",
       "2  9780006178736_A memorable, mesmerizing heroine...  \n",
       "3  9780006280897_Lewis' work on the nature of lov...  \n",
       "4  9780006280934_\"In The Problem of Pain, C.S. Le...  "
      ]
     },
     "execution_count": 3,
     "metadata": {},
     "output_type": "execute_result"
    }
   ],
   "source": [
    "books = pd.read_csv(\"cleaned_books_dataset.csv\")\n",
    "books.head()"
   ]
  },
  {
   "cell_type": "code",
   "execution_count": 4,
   "id": "d70762e4",
   "metadata": {},
   "outputs": [
    {
     "data": {
      "text/html": [
       "<div>\n",
       "<style scoped>\n",
       "    .dataframe tbody tr th:only-of-type {\n",
       "        vertical-align: middle;\n",
       "    }\n",
       "\n",
       "    .dataframe tbody tr th {\n",
       "        vertical-align: top;\n",
       "    }\n",
       "\n",
       "    .dataframe thead th {\n",
       "        text-align: right;\n",
       "    }\n",
       "</style>\n",
       "<table border=\"1\" class=\"dataframe\">\n",
       "  <thead>\n",
       "    <tr style=\"text-align: right;\">\n",
       "      <th></th>\n",
       "      <th>categories</th>\n",
       "      <th>count</th>\n",
       "    </tr>\n",
       "  </thead>\n",
       "  <tbody>\n",
       "    <tr>\n",
       "      <th>0</th>\n",
       "      <td>Fiction</td>\n",
       "      <td>2111</td>\n",
       "    </tr>\n",
       "    <tr>\n",
       "      <th>1</th>\n",
       "      <td>Juvenile Fiction</td>\n",
       "      <td>390</td>\n",
       "    </tr>\n",
       "    <tr>\n",
       "      <th>2</th>\n",
       "      <td>Biography &amp; Autobiography</td>\n",
       "      <td>311</td>\n",
       "    </tr>\n",
       "    <tr>\n",
       "      <th>3</th>\n",
       "      <td>History</td>\n",
       "      <td>207</td>\n",
       "    </tr>\n",
       "    <tr>\n",
       "      <th>4</th>\n",
       "      <td>Literary Criticism</td>\n",
       "      <td>124</td>\n",
       "    </tr>\n",
       "    <tr>\n",
       "      <th>5</th>\n",
       "      <td>Religion</td>\n",
       "      <td>117</td>\n",
       "    </tr>\n",
       "    <tr>\n",
       "      <th>6</th>\n",
       "      <td>Philosophy</td>\n",
       "      <td>117</td>\n",
       "    </tr>\n",
       "    <tr>\n",
       "      <th>7</th>\n",
       "      <td>Comics &amp; Graphic Novels</td>\n",
       "      <td>116</td>\n",
       "    </tr>\n",
       "    <tr>\n",
       "      <th>8</th>\n",
       "      <td>Drama</td>\n",
       "      <td>86</td>\n",
       "    </tr>\n",
       "    <tr>\n",
       "      <th>9</th>\n",
       "      <td>Juvenile Nonfiction</td>\n",
       "      <td>57</td>\n",
       "    </tr>\n",
       "    <tr>\n",
       "      <th>10</th>\n",
       "      <td>Science</td>\n",
       "      <td>56</td>\n",
       "    </tr>\n",
       "    <tr>\n",
       "      <th>11</th>\n",
       "      <td>Poetry</td>\n",
       "      <td>51</td>\n",
       "    </tr>\n",
       "  </tbody>\n",
       "</table>\n",
       "</div>"
      ],
      "text/plain": [
       "                   categories  count\n",
       "0                     Fiction   2111\n",
       "1            Juvenile Fiction    390\n",
       "2   Biography & Autobiography    311\n",
       "3                     History    207\n",
       "4          Literary Criticism    124\n",
       "5                    Religion    117\n",
       "6                  Philosophy    117\n",
       "7     Comics & Graphic Novels    116\n",
       "8                       Drama     86\n",
       "9         Juvenile Nonfiction     57\n",
       "10                    Science     56\n",
       "11                     Poetry     51"
      ]
     },
     "execution_count": 4,
     "metadata": {},
     "output_type": "execute_result"
    }
   ],
   "source": [
    "books['categories'].value_counts().reset_index().query('count > 50')"
   ]
  },
  {
   "cell_type": "code",
   "execution_count": 5,
   "id": "e7fe757d",
   "metadata": {},
   "outputs": [],
   "source": [
    "# pd.set_option(\"display.ma x_colwidth\", None)"
   ]
  },
  {
   "cell_type": "code",
   "execution_count": 6,
   "id": "fad98239",
   "metadata": {},
   "outputs": [
    {
     "data": {
      "text/html": [
       "<div>\n",
       "<style scoped>\n",
       "    .dataframe tbody tr th:only-of-type {\n",
       "        vertical-align: middle;\n",
       "    }\n",
       "\n",
       "    .dataframe tbody tr th {\n",
       "        vertical-align: top;\n",
       "    }\n",
       "\n",
       "    .dataframe thead th {\n",
       "        text-align: right;\n",
       "    }\n",
       "</style>\n",
       "<table border=\"1\" class=\"dataframe\">\n",
       "  <thead>\n",
       "    <tr style=\"text-align: right;\">\n",
       "      <th></th>\n",
       "      <th>title</th>\n",
       "      <th>categories</th>\n",
       "      <th>description</th>\n",
       "    </tr>\n",
       "  </thead>\n",
       "  <tbody>\n",
       "    <tr>\n",
       "      <th>30</th>\n",
       "      <td>Ocean Star Express</td>\n",
       "      <td>Juvenile Fiction</td>\n",
       "      <td>Joe and his parents are enjoying a summer holi...</td>\n",
       "    </tr>\n",
       "    <tr>\n",
       "      <th>79</th>\n",
       "      <td>The voyage of the Dawn Treader</td>\n",
       "      <td>Juvenile Fiction</td>\n",
       "      <td>The \"Dawn Treader\" is the first ship Narnia ha...</td>\n",
       "    </tr>\n",
       "    <tr>\n",
       "      <th>85</th>\n",
       "      <td>Where the Red Fern Grows</td>\n",
       "      <td>Juvenile Fiction</td>\n",
       "      <td>A young boy living in the Ozarks achieves his ...</td>\n",
       "    </tr>\n",
       "    <tr>\n",
       "      <th>86</th>\n",
       "      <td>Poppy's Return</td>\n",
       "      <td>Juvenile Fiction</td>\n",
       "      <td>There's trouble at Gray House, the girlhood ho...</td>\n",
       "    </tr>\n",
       "    <tr>\n",
       "      <th>87</th>\n",
       "      <td>Diary of a Spider</td>\n",
       "      <td>Juvenile Fiction</td>\n",
       "      <td>This is the diary ... of a spider. But don't b...</td>\n",
       "    </tr>\n",
       "    <tr>\n",
       "      <th>...</th>\n",
       "      <td>...</td>\n",
       "      <td>...</td>\n",
       "      <td>...</td>\n",
       "    </tr>\n",
       "    <tr>\n",
       "      <th>4845</th>\n",
       "      <td>Fablehaven</td>\n",
       "      <td>Juvenile Fiction</td>\n",
       "      <td>When Kendra and Seth go to stay at their grand...</td>\n",
       "    </tr>\n",
       "    <tr>\n",
       "      <th>4930</th>\n",
       "      <td>Sherlock Holmes and the Case of the Hound of t...</td>\n",
       "      <td>Juvenile Fiction</td>\n",
       "      <td>Sherlock Holmes and Dr. Watson travel to the b...</td>\n",
       "    </tr>\n",
       "    <tr>\n",
       "      <th>4942</th>\n",
       "      <td>The Drift House</td>\n",
       "      <td>Juvenile Fiction</td>\n",
       "      <td>Sent to stay with their uncle in a ship-like h...</td>\n",
       "    </tr>\n",
       "    <tr>\n",
       "      <th>5010</th>\n",
       "      <td>Attack of the Jaguar</td>\n",
       "      <td>Juvenile Fiction</td>\n",
       "      <td>This training manual for operatives of Xtreme ...</td>\n",
       "    </tr>\n",
       "    <tr>\n",
       "      <th>5157</th>\n",
       "      <td>The Very Persistent Gappers of Frip</td>\n",
       "      <td>Juvenile Fiction</td>\n",
       "      <td>A novel set in the seaside village of Frip fol...</td>\n",
       "    </tr>\n",
       "  </tbody>\n",
       "</table>\n",
       "<p>390 rows × 3 columns</p>\n",
       "</div>"
      ],
      "text/plain": [
       "                                                  title        categories  \\\n",
       "30                                   Ocean Star Express  Juvenile Fiction   \n",
       "79                       The voyage of the Dawn Treader  Juvenile Fiction   \n",
       "85                             Where the Red Fern Grows  Juvenile Fiction   \n",
       "86                                       Poppy's Return  Juvenile Fiction   \n",
       "87                                    Diary of a Spider  Juvenile Fiction   \n",
       "...                                                 ...               ...   \n",
       "4845                                         Fablehaven  Juvenile Fiction   \n",
       "4930  Sherlock Holmes and the Case of the Hound of t...  Juvenile Fiction   \n",
       "4942                                    The Drift House  Juvenile Fiction   \n",
       "5010                               Attack of the Jaguar  Juvenile Fiction   \n",
       "5157                The Very Persistent Gappers of Frip  Juvenile Fiction   \n",
       "\n",
       "                                            description  \n",
       "30    Joe and his parents are enjoying a summer holi...  \n",
       "79    The \"Dawn Treader\" is the first ship Narnia ha...  \n",
       "85    A young boy living in the Ozarks achieves his ...  \n",
       "86    There's trouble at Gray House, the girlhood ho...  \n",
       "87    This is the diary ... of a spider. But don't b...  \n",
       "...                                                 ...  \n",
       "4845  When Kendra and Seth go to stay at their grand...  \n",
       "4930  Sherlock Holmes and Dr. Watson travel to the b...  \n",
       "4942  Sent to stay with their uncle in a ship-like h...  \n",
       "5010  This training manual for operatives of Xtreme ...  \n",
       "5157  A novel set in the seaside village of Frip fol...  \n",
       "\n",
       "[390 rows x 3 columns]"
      ]
     },
     "execution_count": 6,
     "metadata": {},
     "output_type": "execute_result"
    }
   ],
   "source": [
    "books[books['categories']==\"Juvenile Fiction\"][['title','categories', 'description']]"
   ]
  },
  {
   "cell_type": "code",
   "execution_count": 7,
   "id": "44e6538c",
   "metadata": {},
   "outputs": [
    {
     "data": {
      "text/html": [
       "<div>\n",
       "<style scoped>\n",
       "    .dataframe tbody tr th:only-of-type {\n",
       "        vertical-align: middle;\n",
       "    }\n",
       "\n",
       "    .dataframe tbody tr th {\n",
       "        vertical-align: top;\n",
       "    }\n",
       "\n",
       "    .dataframe thead th {\n",
       "        text-align: right;\n",
       "    }\n",
       "</style>\n",
       "<table border=\"1\" class=\"dataframe\">\n",
       "  <thead>\n",
       "    <tr style=\"text-align: right;\">\n",
       "      <th></th>\n",
       "      <th>title</th>\n",
       "      <th>categories</th>\n",
       "      <th>description</th>\n",
       "    </tr>\n",
       "  </thead>\n",
       "  <tbody>\n",
       "    <tr>\n",
       "      <th>107</th>\n",
       "      <td>The Secret Garden Cookbook</td>\n",
       "      <td>Juvenile Nonfiction</td>\n",
       "      <td>Frances Hodgson Burnett's The Secret Garden de...</td>\n",
       "    </tr>\n",
       "    <tr>\n",
       "      <th>108</th>\n",
       "      <td>Laura's Album</td>\n",
       "      <td>Juvenile Nonfiction</td>\n",
       "      <td>Though best known as the author of the Little ...</td>\n",
       "    </tr>\n",
       "    <tr>\n",
       "      <th>228</th>\n",
       "      <td>Time For Kids: Butterflies!</td>\n",
       "      <td>Juvenile Nonfiction</td>\n",
       "      <td>Butterflies There are 20,000 different kinds o...</td>\n",
       "    </tr>\n",
       "    <tr>\n",
       "      <th>267</th>\n",
       "      <td>The Annotated Charlotte's Web</td>\n",
       "      <td>Juvenile Nonfiction</td>\n",
       "      <td>Charlotte's Web, one of America's best-loved c...</td>\n",
       "    </tr>\n",
       "    <tr>\n",
       "      <th>434</th>\n",
       "      <td>My Little House Crafts Book</td>\n",
       "      <td>Juvenile Nonfiction</td>\n",
       "      <td>Make the same pioneer crafts that Laura did! I...</td>\n",
       "    </tr>\n",
       "  </tbody>\n",
       "</table>\n",
       "</div>"
      ],
      "text/plain": [
       "                             title           categories  \\\n",
       "107     The Secret Garden Cookbook  Juvenile Nonfiction   \n",
       "108                  Laura's Album  Juvenile Nonfiction   \n",
       "228    Time For Kids: Butterflies!  Juvenile Nonfiction   \n",
       "267  The Annotated Charlotte's Web  Juvenile Nonfiction   \n",
       "434    My Little House Crafts Book  Juvenile Nonfiction   \n",
       "\n",
       "                                           description  \n",
       "107  Frances Hodgson Burnett's The Secret Garden de...  \n",
       "108  Though best known as the author of the Little ...  \n",
       "228  Butterflies There are 20,000 different kinds o...  \n",
       "267  Charlotte's Web, one of America's best-loved c...  \n",
       "434  Make the same pioneer crafts that Laura did! I...  "
      ]
     },
     "execution_count": 7,
     "metadata": {},
     "output_type": "execute_result"
    }
   ],
   "source": [
    "books[books['categories']==\"Juvenile Nonfiction\"][['title','categories', 'description']].head()"
   ]
  },
  {
   "cell_type": "code",
   "execution_count": 8,
   "id": "eb5a0d98",
   "metadata": {},
   "outputs": [],
   "source": [
    "\n",
    "pd.set_option(\"display.max_colwidth\", 50)\n",
    "category_mapping = {\n",
    "    'Fiction': \"Fiction\",\n",
    "    'Juvenile Fiction': \"Children's Fiction\",\n",
    "    'Biography & Autobiography' : \"Nonfiction\",\n",
    "    'History': \"Nonfiction\",\n",
    "    'Literary Criticism': \"Nonfiction\",\n",
    "    'Philosophy': \"Nonfiction\",\n",
    "    'Religion': \"Nonfiction\", \n",
    "    'Comics & Graphic Novels': \"Fiction\",\n",
    "    'Drama': \"Fiction\",\n",
    "    'Juvenile Nonfiction': \"Children's Nonfiction\",\n",
    "    'Science': \"Nonfiction\",\n",
    "    'Poetry': \"Fiction\"\n",
    "}\n",
    "books['simple_categories'] = books['categories'].map(category_mapping)\n"
   ]
  },
  {
   "cell_type": "code",
   "execution_count": 9,
   "id": "f03f54c5",
   "metadata": {},
   "outputs": [
    {
     "data": {
      "text/plain": [
       "np.int64(3743)"
      ]
     },
     "execution_count": 9,
     "metadata": {},
     "output_type": "execute_result"
    }
   ],
   "source": [
    "(~books['simple_categories'].isna()).sum() # in total with that simple mapping we could put ~3700 of the books in simple categories"
   ]
  },
  {
   "cell_type": "markdown",
   "id": "fb635203",
   "metadata": {},
   "source": [
    "# Using huggingface to perform zero-shot classification"
   ]
  },
  {
   "cell_type": "code",
   "execution_count": 10,
   "id": "4c0c6994",
   "metadata": {},
   "outputs": [
    {
     "name": "stderr",
     "output_type": "stream",
     "text": [
      "/home/fahimeh/miniconda3/envs/mlclean/lib/python3.10/site-packages/tqdm/auto.py:21: TqdmWarning: IProgress not found. Please update jupyter and ipywidgets. See https://ipywidgets.readthedocs.io/en/stable/user_install.html\n",
      "  from .autonotebook import tqdm as notebook_tqdm\n",
      "Device set to use cpu\n"
     ]
    },
    {
     "name": "stdout",
     "output_type": "stream",
     "text": [
      "Pipeline initialized successfully!\n",
      "{'sequence': 'This is a simple test sentence.', 'labels': ['Nonfiction', 'Fiction'], 'scores': [0.7708202004432678, 0.2291797697544098]}\n"
     ]
    }
   ],
   "source": [
    "from transformers import pipeline\n",
    "\n",
    "# Use a tiny model for a quick check\n",
    "# SMALL_MODEL = \"finiteautomata/bertweet-base-sentiment-analysis\" \n",
    "LARGE_MODEL = \"facebook/bart-large-mnli\"\n",
    "fiction_categories = [\"Fiction\", \"Nonfiction\"]\n",
    "\n",
    "pipe = pipeline(\"zero-shot-classification\", \n",
    "                model=LARGE_MODEL,\n",
    "                device=0,\n",
    "                local_files_only=False) # Force redownload\n",
    "\n",
    "print(\"Pipeline initialized successfully!\")\n",
    "\n",
    "result = pipe(\"This is a simple test sentence.\", fiction_categories)\n",
    "print(result)"
   ]
  },
  {
   "cell_type": "code",
   "execution_count": 11,
   "id": "0e02cbf4",
   "metadata": {},
   "outputs": [
    {
     "name": "stdout",
     "output_type": "stream",
     "text": [
      "['Fiction', 'Nonfiction'] [0.8438265323638916, 0.1561734527349472]\n",
      "['Nonfiction', 'Fiction'] [0.8751672506332397, 0.12483272701501846]\n"
     ]
    }
   ],
   "source": [
    "# Lets check how the classifier is working \n",
    "seq = books.loc[books['simple_categories']== \"Fiction\", \"description\"].reset_index(drop=True)[0]\n",
    "print(pipe(seq, fiction_categories)['labels'], pipe(seq, fiction_categories)['scores'])\n",
    "\n",
    "seq = books.loc[books['simple_categories']== \"Nonfiction\", \"description\"].reset_index(drop=True)[0]\n",
    "print(pipe(seq, fiction_categories)['labels'], pipe(seq, fiction_categories)['scores'])\n"
   ]
  },
  {
   "cell_type": "code",
   "execution_count": 12,
   "id": "78cfd133",
   "metadata": {},
   "outputs": [
    {
     "name": "stdout",
     "output_type": "stream",
     "text": [
      "Nonfiction\n"
     ]
    }
   ],
   "source": [
    "seq = books.loc[books['simple_categories']== \"Nonfiction\", \"description\"].reset_index(drop=True)[0]\n",
    "result = pipe(seq, fiction_categories)\n",
    "max_index = np.argmax(result['scores'])\n",
    "category = result['labels'][max_index]\n",
    "print(category)"
   ]
  },
  {
   "cell_type": "code",
   "execution_count": 13,
   "id": "178c5039",
   "metadata": {},
   "outputs": [],
   "source": [
    "def generate_predictions(sequence, categories):\n",
    "\n",
    "    predictions = pipe(sequence, categories)\n",
    "    max_index = np.argmax(predictions['scores'])\n",
    "    max_label = predictions['labels'][max_index]\n",
    "\n",
    "    return max_label\n"
   ]
  },
  {
   "cell_type": "markdown",
   "id": "6c50c932",
   "metadata": {},
   "source": [
    "# Lets perform classification and evaluate the classifier"
   ]
  },
  {
   "cell_type": "code",
   "execution_count": 14,
   "id": "89768d83",
   "metadata": {},
   "outputs": [],
   "source": [
    "# We check the preformance for the fiction category\n",
    "\n",
    "predicted_categories = []\n",
    "actual_categories = []\n",
    "\n",
    "for i, description in enumerate(books.loc[books['simple_categories']==\"Fiction\", 'description'][0:300]):\n",
    "    sequence = books.loc[books['simple_categories']==\"Fiction\", 'description'].tolist()[i]\n",
    "    predicted_categories.append(generate_predictions(sequence, fiction_categories))\n",
    "    actual_categories.append(\"Fiction\")"
   ]
  },
  {
   "cell_type": "code",
   "execution_count": 15,
   "id": "b888bbc2",
   "metadata": {},
   "outputs": [],
   "source": [
    "# We check the preformance for the Nonfiction category\n",
    "\n",
    "for i, description in enumerate(books.loc[books['simple_categories']==\"Nonfiction\", 'description'][0:300]):\n",
    "    sequence = books.loc[books['simple_categories']==\"Nonfiction\", 'description'].tolist()[i]\n",
    "    predicted_categories.append(generate_predictions(sequence, fiction_categories))\n",
    "    actual_categories.append(\"Nonfiction\")"
   ]
  },
  {
   "cell_type": "code",
   "execution_count": 16,
   "id": "5ea88186",
   "metadata": {},
   "outputs": [
    {
     "data": {
      "text/html": [
       "<div>\n",
       "<style scoped>\n",
       "    .dataframe tbody tr th:only-of-type {\n",
       "        vertical-align: middle;\n",
       "    }\n",
       "\n",
       "    .dataframe tbody tr th {\n",
       "        vertical-align: top;\n",
       "    }\n",
       "\n",
       "    .dataframe thead th {\n",
       "        text-align: right;\n",
       "    }\n",
       "</style>\n",
       "<table border=\"1\" class=\"dataframe\">\n",
       "  <thead>\n",
       "    <tr style=\"text-align: right;\">\n",
       "      <th></th>\n",
       "      <th>predicted_cats</th>\n",
       "      <th>actual_cats</th>\n",
       "    </tr>\n",
       "  </thead>\n",
       "  <tbody>\n",
       "    <tr>\n",
       "      <th>0</th>\n",
       "      <td>Fiction</td>\n",
       "      <td>Fiction</td>\n",
       "    </tr>\n",
       "    <tr>\n",
       "      <th>1</th>\n",
       "      <td>Fiction</td>\n",
       "      <td>Fiction</td>\n",
       "    </tr>\n",
       "    <tr>\n",
       "      <th>2</th>\n",
       "      <td>Fiction</td>\n",
       "      <td>Fiction</td>\n",
       "    </tr>\n",
       "    <tr>\n",
       "      <th>3</th>\n",
       "      <td>Nonfiction</td>\n",
       "      <td>Fiction</td>\n",
       "    </tr>\n",
       "    <tr>\n",
       "      <th>4</th>\n",
       "      <td>Fiction</td>\n",
       "      <td>Fiction</td>\n",
       "    </tr>\n",
       "  </tbody>\n",
       "</table>\n",
       "</div>"
      ],
      "text/plain": [
       "  predicted_cats actual_cats\n",
       "0        Fiction     Fiction\n",
       "1        Fiction     Fiction\n",
       "2        Fiction     Fiction\n",
       "3     Nonfiction     Fiction\n",
       "4        Fiction     Fiction"
      ]
     },
     "execution_count": 16,
     "metadata": {},
     "output_type": "execute_result"
    }
   ],
   "source": [
    "df = pd.DataFrame({\"predicted_cats\": predicted_categories, \"actual_cats\": actual_categories})\n",
    "df.head()"
   ]
  },
  {
   "cell_type": "code",
   "execution_count": 17,
   "id": "f6e4d2c0",
   "metadata": {},
   "outputs": [
    {
     "data": {
      "text/plain": [
       "600"
      ]
     },
     "execution_count": 17,
     "metadata": {},
     "output_type": "execute_result"
    }
   ],
   "source": [
    "len(predicted_categories)"
   ]
  },
  {
   "cell_type": "code",
   "execution_count": 18,
   "id": "d8cae4a2",
   "metadata": {},
   "outputs": [
    {
     "name": "stdout",
     "output_type": "stream",
     "text": [
      "classifier_accuracy: 77.83333333333333\n"
     ]
    }
   ],
   "source": [
    "print(\"classifier_accuracy:\", (df['predicted_cats'] == df['actual_cats']).sum() / df.shape[0] * 100)"
   ]
  },
  {
   "cell_type": "markdown",
   "id": "f1119240",
   "metadata": {},
   "source": [
    "We decide that this accuracy is good enough for the time being and we will continue to use this classifier for classifying all the books we have"
   ]
  },
  {
   "cell_type": "markdown",
   "id": "e3ea7923",
   "metadata": {},
   "source": [
    "# Perform classification for all the books\n",
    "\n",
    "We are going to perform calssification for those that we did not define a simple_category manually. "
   ]
  },
  {
   "cell_type": "code",
   "execution_count": 19,
   "id": "26636fc3",
   "metadata": {},
   "outputs": [
    {
     "data": {
      "text/plain": [
       "np.int64(1454)"
      ]
     },
     "execution_count": 19,
     "metadata": {},
     "output_type": "execute_result"
    }
   ],
   "source": [
    "# How many books are missing simple_categories\n",
    "books.simple_categories.isna().sum()\n",
    "    "
   ]
  },
  {
   "cell_type": "code",
   "execution_count": 20,
   "id": "043ee26b",
   "metadata": {},
   "outputs": [
    {
     "data": {
      "text/html": [
       "<div>\n",
       "<style scoped>\n",
       "    .dataframe tbody tr th:only-of-type {\n",
       "        vertical-align: middle;\n",
       "    }\n",
       "\n",
       "    .dataframe tbody tr th {\n",
       "        vertical-align: top;\n",
       "    }\n",
       "\n",
       "    .dataframe thead th {\n",
       "        text-align: right;\n",
       "    }\n",
       "</style>\n",
       "<table border=\"1\" class=\"dataframe\">\n",
       "  <thead>\n",
       "    <tr style=\"text-align: right;\">\n",
       "      <th></th>\n",
       "      <th>isbn13</th>\n",
       "      <th>description</th>\n",
       "    </tr>\n",
       "  </thead>\n",
       "  <tbody>\n",
       "    <tr>\n",
       "      <th>0</th>\n",
       "      <td>9780002261982</td>\n",
       "      <td>A new 'Christie for Christmas' -- a full-lengt...</td>\n",
       "    </tr>\n",
       "    <tr>\n",
       "      <th>1</th>\n",
       "      <td>9780006280897</td>\n",
       "      <td>Lewis' work on the nature of love divides love...</td>\n",
       "    </tr>\n",
       "    <tr>\n",
       "      <th>2</th>\n",
       "      <td>9780006280934</td>\n",
       "      <td>\"In The Problem of Pain, C.S. Lewis, one of th...</td>\n",
       "    </tr>\n",
       "    <tr>\n",
       "      <th>3</th>\n",
       "      <td>9780006380832</td>\n",
       "      <td>Until Vasco da Gama discovered the sea-route t...</td>\n",
       "    </tr>\n",
       "    <tr>\n",
       "      <th>4</th>\n",
       "      <td>9780006470229</td>\n",
       "      <td>A new-cover reissue of the fourth book in the ...</td>\n",
       "    </tr>\n",
       "  </tbody>\n",
       "</table>\n",
       "</div>"
      ],
      "text/plain": [
       "          isbn13                                        description\n",
       "0  9780002261982  A new 'Christie for Christmas' -- a full-lengt...\n",
       "1  9780006280897  Lewis' work on the nature of love divides love...\n",
       "2  9780006280934  \"In The Problem of Pain, C.S. Lewis, one of th...\n",
       "3  9780006380832  Until Vasco da Gama discovered the sea-route t...\n",
       "4  9780006470229  A new-cover reissue of the fourth book in the ..."
      ]
     },
     "execution_count": 20,
     "metadata": {},
     "output_type": "execute_result"
    }
   ],
   "source": [
    "missing_simple_cats = books[books.simple_categories.isna()][['isbn13', 'description']].reset_index(drop=True)\n",
    "missing_simple_cats.head()"
   ]
  },
  {
   "cell_type": "code",
   "execution_count": 21,
   "id": "8d2a60fe",
   "metadata": {},
   "outputs": [
    {
     "name": "stdout",
     "output_type": "stream",
     "text": [
      "1454\n"
     ]
    }
   ],
   "source": [
    "predicted_cats = [generate_predictions(des, fiction_categories) for des in missing_simple_cats['description']]\n",
    "print(len(predicted_cats))"
   ]
  },
  {
   "cell_type": "code",
   "execution_count": 22,
   "id": "ef45c3fd",
   "metadata": {},
   "outputs": [
    {
     "data": {
      "text/html": [
       "<div>\n",
       "<style scoped>\n",
       "    .dataframe tbody tr th:only-of-type {\n",
       "        vertical-align: middle;\n",
       "    }\n",
       "\n",
       "    .dataframe tbody tr th {\n",
       "        vertical-align: top;\n",
       "    }\n",
       "\n",
       "    .dataframe thead th {\n",
       "        text-align: right;\n",
       "    }\n",
       "</style>\n",
       "<table border=\"1\" class=\"dataframe\">\n",
       "  <thead>\n",
       "    <tr style=\"text-align: right;\">\n",
       "      <th></th>\n",
       "      <th>isbn13</th>\n",
       "      <th>description</th>\n",
       "      <th>predicted_cats</th>\n",
       "    </tr>\n",
       "  </thead>\n",
       "  <tbody>\n",
       "    <tr>\n",
       "      <th>0</th>\n",
       "      <td>9780002261982</td>\n",
       "      <td>A new 'Christie for Christmas' -- a full-lengt...</td>\n",
       "      <td>Fiction</td>\n",
       "    </tr>\n",
       "    <tr>\n",
       "      <th>1</th>\n",
       "      <td>9780006280897</td>\n",
       "      <td>Lewis' work on the nature of love divides love...</td>\n",
       "      <td>Nonfiction</td>\n",
       "    </tr>\n",
       "    <tr>\n",
       "      <th>2</th>\n",
       "      <td>9780006280934</td>\n",
       "      <td>\"In The Problem of Pain, C.S. Lewis, one of th...</td>\n",
       "      <td>Nonfiction</td>\n",
       "    </tr>\n",
       "    <tr>\n",
       "      <th>3</th>\n",
       "      <td>9780006380832</td>\n",
       "      <td>Until Vasco da Gama discovered the sea-route t...</td>\n",
       "      <td>Nonfiction</td>\n",
       "    </tr>\n",
       "    <tr>\n",
       "      <th>4</th>\n",
       "      <td>9780006470229</td>\n",
       "      <td>A new-cover reissue of the fourth book in the ...</td>\n",
       "      <td>Fiction</td>\n",
       "    </tr>\n",
       "  </tbody>\n",
       "</table>\n",
       "</div>"
      ],
      "text/plain": [
       "          isbn13                                        description  \\\n",
       "0  9780002261982  A new 'Christie for Christmas' -- a full-lengt...   \n",
       "1  9780006280897  Lewis' work on the nature of love divides love...   \n",
       "2  9780006280934  \"In The Problem of Pain, C.S. Lewis, one of th...   \n",
       "3  9780006380832  Until Vasco da Gama discovered the sea-route t...   \n",
       "4  9780006470229  A new-cover reissue of the fourth book in the ...   \n",
       "\n",
       "  predicted_cats  \n",
       "0        Fiction  \n",
       "1     Nonfiction  \n",
       "2     Nonfiction  \n",
       "3     Nonfiction  \n",
       "4        Fiction  "
      ]
     },
     "execution_count": 22,
     "metadata": {},
     "output_type": "execute_result"
    }
   ],
   "source": [
    "missing_simple_cats['predicted_cats'] = predicted_cats\n",
    "missing_simple_cats.head()"
   ]
  },
  {
   "cell_type": "code",
   "execution_count": 23,
   "id": "648e7554",
   "metadata": {},
   "outputs": [],
   "source": [
    "books = pd.merge(books, missing_simple_cats[['isbn13','predicted_cats']], on=\"isbn13\", how='left')"
   ]
  },
  {
   "cell_type": "code",
   "execution_count": 24,
   "id": "6640cb71",
   "metadata": {},
   "outputs": [],
   "source": [
    "books['simple_categories'] = np.where(books['simple_categories'].isna(), books['predicted_cats'], books['simple_categories'])\n",
    "books = books.drop(columns=['predicted_cats'])"
   ]
  },
  {
   "cell_type": "code",
   "execution_count": 25,
   "id": "41e4a21b",
   "metadata": {},
   "outputs": [
    {
     "data": {
      "text/html": [
       "<div>\n",
       "<style scoped>\n",
       "    .dataframe tbody tr th:only-of-type {\n",
       "        vertical-align: middle;\n",
       "    }\n",
       "\n",
       "    .dataframe tbody tr th {\n",
       "        vertical-align: top;\n",
       "    }\n",
       "\n",
       "    .dataframe thead th {\n",
       "        text-align: right;\n",
       "    }\n",
       "</style>\n",
       "<table border=\"1\" class=\"dataframe\">\n",
       "  <thead>\n",
       "    <tr style=\"text-align: right;\">\n",
       "      <th></th>\n",
       "      <th>isbn13</th>\n",
       "      <th>isbn10</th>\n",
       "      <th>title</th>\n",
       "      <th>authors</th>\n",
       "      <th>categories</th>\n",
       "      <th>thumbnail</th>\n",
       "      <th>description</th>\n",
       "      <th>published_year</th>\n",
       "      <th>average_rating</th>\n",
       "      <th>num_pages</th>\n",
       "      <th>ratings_count</th>\n",
       "      <th>title_and_subtitle</th>\n",
       "      <th>tag_description</th>\n",
       "      <th>simple_categories</th>\n",
       "    </tr>\n",
       "  </thead>\n",
       "  <tbody>\n",
       "    <tr>\n",
       "      <th>0</th>\n",
       "      <td>9780002005883</td>\n",
       "      <td>0002005883</td>\n",
       "      <td>Gilead</td>\n",
       "      <td>Marilynne Robinson</td>\n",
       "      <td>Fiction</td>\n",
       "      <td>http://books.google.com/books/content?id=KQZCP...</td>\n",
       "      <td>A NOVEL THAT READERS and critics have been eag...</td>\n",
       "      <td>2004.0</td>\n",
       "      <td>3.85</td>\n",
       "      <td>247.0</td>\n",
       "      <td>361.0</td>\n",
       "      <td>Gilead</td>\n",
       "      <td>9780002005883_A NOVEL THAT READERS and critics...</td>\n",
       "      <td>Fiction</td>\n",
       "    </tr>\n",
       "    <tr>\n",
       "      <th>1</th>\n",
       "      <td>9780002261982</td>\n",
       "      <td>0002261987</td>\n",
       "      <td>Spider's Web</td>\n",
       "      <td>Charles Osborne;Agatha Christie</td>\n",
       "      <td>Detective and mystery stories</td>\n",
       "      <td>http://books.google.com/books/content?id=gA5GP...</td>\n",
       "      <td>A new 'Christie for Christmas' -- a full-lengt...</td>\n",
       "      <td>2000.0</td>\n",
       "      <td>3.83</td>\n",
       "      <td>241.0</td>\n",
       "      <td>5164.0</td>\n",
       "      <td>Spider's Web_A Novel</td>\n",
       "      <td>9780002261982_A new 'Christie for Christmas' -...</td>\n",
       "      <td>Fiction</td>\n",
       "    </tr>\n",
       "    <tr>\n",
       "      <th>2</th>\n",
       "      <td>9780006178736</td>\n",
       "      <td>0006178731</td>\n",
       "      <td>Rage of angels</td>\n",
       "      <td>Sidney Sheldon</td>\n",
       "      <td>Fiction</td>\n",
       "      <td>http://books.google.com/books/content?id=FKo2T...</td>\n",
       "      <td>A memorable, mesmerizing heroine Jennifer -- b...</td>\n",
       "      <td>1993.0</td>\n",
       "      <td>3.93</td>\n",
       "      <td>512.0</td>\n",
       "      <td>29532.0</td>\n",
       "      <td>Rage of angels</td>\n",
       "      <td>9780006178736_A memorable, mesmerizing heroine...</td>\n",
       "      <td>Fiction</td>\n",
       "    </tr>\n",
       "    <tr>\n",
       "      <th>3</th>\n",
       "      <td>9780006280897</td>\n",
       "      <td>0006280897</td>\n",
       "      <td>The Four Loves</td>\n",
       "      <td>Clive Staples Lewis</td>\n",
       "      <td>Christian life</td>\n",
       "      <td>http://books.google.com/books/content?id=XhQ5X...</td>\n",
       "      <td>Lewis' work on the nature of love divides love...</td>\n",
       "      <td>2002.0</td>\n",
       "      <td>4.15</td>\n",
       "      <td>170.0</td>\n",
       "      <td>33684.0</td>\n",
       "      <td>The Four Loves</td>\n",
       "      <td>9780006280897_Lewis' work on the nature of lov...</td>\n",
       "      <td>Nonfiction</td>\n",
       "    </tr>\n",
       "    <tr>\n",
       "      <th>4</th>\n",
       "      <td>9780006280934</td>\n",
       "      <td>0006280935</td>\n",
       "      <td>The Problem of Pain</td>\n",
       "      <td>Clive Staples Lewis</td>\n",
       "      <td>Christian life</td>\n",
       "      <td>http://books.google.com/books/content?id=Kk-uV...</td>\n",
       "      <td>\"In The Problem of Pain, C.S. Lewis, one of th...</td>\n",
       "      <td>2002.0</td>\n",
       "      <td>4.09</td>\n",
       "      <td>176.0</td>\n",
       "      <td>37569.0</td>\n",
       "      <td>The Problem of Pain</td>\n",
       "      <td>9780006280934_\"In The Problem of Pain, C.S. Le...</td>\n",
       "      <td>Nonfiction</td>\n",
       "    </tr>\n",
       "  </tbody>\n",
       "</table>\n",
       "</div>"
      ],
      "text/plain": [
       "          isbn13      isbn10                title  \\\n",
       "0  9780002005883  0002005883               Gilead   \n",
       "1  9780002261982  0002261987         Spider's Web   \n",
       "2  9780006178736  0006178731       Rage of angels   \n",
       "3  9780006280897  0006280897       The Four Loves   \n",
       "4  9780006280934  0006280935  The Problem of Pain   \n",
       "\n",
       "                           authors                     categories  \\\n",
       "0               Marilynne Robinson                        Fiction   \n",
       "1  Charles Osborne;Agatha Christie  Detective and mystery stories   \n",
       "2                   Sidney Sheldon                        Fiction   \n",
       "3              Clive Staples Lewis                 Christian life   \n",
       "4              Clive Staples Lewis                 Christian life   \n",
       "\n",
       "                                           thumbnail  \\\n",
       "0  http://books.google.com/books/content?id=KQZCP...   \n",
       "1  http://books.google.com/books/content?id=gA5GP...   \n",
       "2  http://books.google.com/books/content?id=FKo2T...   \n",
       "3  http://books.google.com/books/content?id=XhQ5X...   \n",
       "4  http://books.google.com/books/content?id=Kk-uV...   \n",
       "\n",
       "                                         description  published_year  \\\n",
       "0  A NOVEL THAT READERS and critics have been eag...          2004.0   \n",
       "1  A new 'Christie for Christmas' -- a full-lengt...          2000.0   \n",
       "2  A memorable, mesmerizing heroine Jennifer -- b...          1993.0   \n",
       "3  Lewis' work on the nature of love divides love...          2002.0   \n",
       "4  \"In The Problem of Pain, C.S. Lewis, one of th...          2002.0   \n",
       "\n",
       "   average_rating  num_pages  ratings_count    title_and_subtitle  \\\n",
       "0            3.85      247.0          361.0                Gilead   \n",
       "1            3.83      241.0         5164.0  Spider's Web_A Novel   \n",
       "2            3.93      512.0        29532.0        Rage of angels   \n",
       "3            4.15      170.0        33684.0        The Four Loves   \n",
       "4            4.09      176.0        37569.0   The Problem of Pain   \n",
       "\n",
       "                                     tag_description simple_categories  \n",
       "0  9780002005883_A NOVEL THAT READERS and critics...           Fiction  \n",
       "1  9780002261982_A new 'Christie for Christmas' -...           Fiction  \n",
       "2  9780006178736_A memorable, mesmerizing heroine...           Fiction  \n",
       "3  9780006280897_Lewis' work on the nature of lov...        Nonfiction  \n",
       "4  9780006280934_\"In The Problem of Pain, C.S. Le...        Nonfiction  "
      ]
     },
     "execution_count": 25,
     "metadata": {},
     "output_type": "execute_result"
    }
   ],
   "source": [
    "books.head()"
   ]
  },
  {
   "cell_type": "code",
   "execution_count": 26,
   "id": "f1707f57",
   "metadata": {},
   "outputs": [],
   "source": [
    "books.to_csv(\"books_with_categories.csv\")"
   ]
  },
  {
   "cell_type": "markdown",
   "id": "d30293a7",
   "metadata": {},
   "source": [
    "The question here is that, why not using the classifier to make more categories. but the thing is that we should have enough examples to make sure the model is able to generate correct calsses. For example for fiction and non-fiction we could evaluate the model to see how it works but for other classes we require more examples or data. so it really depend on the data we have"
   ]
  },
  {
   "cell_type": "markdown",
   "id": "358bf0b1",
   "metadata": {},
   "source": [
    "# Sentiment analysis (fine tunning)\n",
    "\n",
    "We are going to calssify our texts to seven different categories: Anger, disgust, fear, joy, sadness, suprise, neutral. The LLM can predict the emotion from the description"
   ]
  },
  {
   "cell_type": "markdown",
   "id": "9859ec25",
   "metadata": {},
   "source": [
    "since this is a time consuming and complicated task we will use a fine_tuned model from the hugging-face to do this task for us. See the next jupyter notebook for the rest"
   ]
  },
  {
   "cell_type": "markdown",
   "id": "1fe53eee",
   "metadata": {},
   "source": []
  },
  {
   "cell_type": "code",
   "execution_count": null,
   "id": "bf760acd",
   "metadata": {},
   "outputs": [],
   "source": []
  },
  {
   "cell_type": "markdown",
   "id": "18d17924",
   "metadata": {},
   "source": []
  },
  {
   "cell_type": "markdown",
   "id": "51250015",
   "metadata": {},
   "source": []
  },
  {
   "cell_type": "code",
   "execution_count": null,
   "id": "d5cbf1da",
   "metadata": {},
   "outputs": [],
   "source": [
    "  "
   ]
  },
  {
   "cell_type": "markdown",
   "id": "c8d85d7b",
   "metadata": {},
   "source": []
  }
 ],
 "metadata": {
  "kernelspec": {
   "display_name": "mlclean",
   "language": "python",
   "name": "python3"
  },
  "language_info": {
   "codemirror_mode": {
    "name": "ipython",
    "version": 3
   },
   "file_extension": ".py",
   "mimetype": "text/x-python",
   "name": "python",
   "nbconvert_exporter": "python",
   "pygments_lexer": "ipython3",
   "version": "3.10.19"
  }
 },
 "nbformat": 4,
 "nbformat_minor": 5
}
