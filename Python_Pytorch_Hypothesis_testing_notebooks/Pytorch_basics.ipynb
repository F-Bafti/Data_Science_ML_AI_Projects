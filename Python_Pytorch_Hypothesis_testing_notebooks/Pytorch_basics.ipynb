{
 "cells": [
  {
   "cell_type": "markdown",
   "id": "4abc109e",
   "metadata": {},
   "source": [
    "# Learning basics of pytorch"
   ]
  },
  {
   "cell_type": "markdown",
   "id": "97737ca6",
   "metadata": {},
   "source": [
    " © MIT Introduction to Deep Learning\n",
    " http://introtodeeplearning.com"
   ]
  },
  {
   "cell_type": "code",
   "execution_count": 1,
   "id": "f3e8a4a2",
   "metadata": {},
   "outputs": [],
   "source": [
    "import torch\n",
    "import torch.nn as nn\n",
    "\n",
    "import numpy as np\n",
    "import matplotlib.pyplot as plt"
   ]
  },
  {
   "cell_type": "markdown",
   "id": "e9fe6504",
   "metadata": {},
   "source": [
    "1.1 What is PyTorch?\n",
    "\n",
    "PyTorch is a machine learning library, like TensorFlow. At its core, PyTorch provides an interface for creating and manipulating tensors, which are data structures that you can think of as multi-dimensional arrays. Tensors are represented as n-dimensional arrays of base datatypes such as a string or integer -- they provide a way to generalize vectors and matrices to higher dimensions. PyTorch provides the ability to perform computation on these tensors, define neural networks, and train them efficiently.\n",
    "\n",
    "The shape of a PyTorch tensor defines its number of dimensions and the size of each dimension. The ndim or dim of a PyTorch tensor provides the number of dimensions (n-dimensions) -- this is equivalent to the tensor's rank (as is used in TensorFlow), and you can also think of this as the tensor's order or degree.\n",
    "\n",
    "Let’s start by creating some tensors and inspecting their properties:"
   ]
  },
  {
   "cell_type": "markdown",
   "id": "d9368f12",
   "metadata": {},
   "source": [
    "Make sure torch tensors and dimensions are understandbale for us"
   ]
  },
  {
   "cell_type": "code",
   "execution_count": 3,
   "id": "e5760a6b",
   "metadata": {},
   "outputs": [
    {
     "name": "stdout",
     "output_type": "stream",
     "text": [
      "`integer` is a 0-d Tensor: 1234\n",
      "`decimal` is a 0-d Tensor: 3.1415927410125732\n",
      "`fibonacci` is a 1-d Tensor with shape: torch.Size([6])\n",
      "`count_to_100` is a 1-d Tensor with shape: torch.Size([100])\n"
     ]
    }
   ],
   "source": [
    "integer = torch.tensor(1234)\n",
    "decimal = torch.tensor(3.14159265359)\n",
    "\n",
    "print(f\"`integer` is a {integer.ndim}-d Tensor: {integer}\")\n",
    "print(f\"`decimal` is a {decimal.ndim}-d Tensor: {decimal}\")\n",
    "\n",
    "fibonacci = torch.tensor([1, 1, 2, 3, 5, 8])\n",
    "count_to_100 = torch.tensor(range(100))\n",
    "\n",
    "print(f\"`fibonacci` is a {fibonacci.ndim}-d Tensor with shape: {fibonacci.shape}\")\n",
    "print(f\"`count_to_100` is a {count_to_100.ndim}-d Tensor with shape: {count_to_100.shape}\")"
   ]
  },
  {
   "cell_type": "code",
   "execution_count": 15,
   "id": "9ea6fd8f",
   "metadata": {},
   "outputs": [
    {
     "name": "stdout",
     "output_type": "stream",
     "text": [
      "images is a 4-d Tensor with shape: torch.Size([10, 3, 256, 256])\n"
     ]
    }
   ],
   "source": [
    "### Defining higher-order Tensors ###\n",
    "\n",
    "'''TODO: Define a 2-d Tensor'''\n",
    "matrix = torch.tensor([[1,2,3],\n",
    "                       [4,5,6],\n",
    "                       [7,8,9]])\n",
    "matrix.shape\n",
    "\n",
    "assert isinstance(matrix, torch.Tensor), \"matrix must be a torch Tensor object\"\n",
    "assert matrix.ndim == 2\n",
    "\n",
    "'''TODO: Define a 4-d Tensor.'''\n",
    "# Use torch.zeros to initialize a 4-d Tensor of zeros with size 10 x 3 x 256 x 256.\n",
    "# #   You can think of this as 10 images where each image is RGB 256 x 256.\n",
    "images = torch.zeros((10, 3, 256, 256))\n",
    "\n",
    "assert isinstance(images, torch.Tensor), \"images must be a torch Tensor object\"\n",
    "assert images.ndim == 4, \"images must have 4 dimensions\"\n",
    "assert images.shape == (10, 3, 256, 256), \"images is incorrect shape\"\n",
    "print(f\"images is a {images.ndim}-d Tensor with shape: {images.shape}\")"
   ]
  },
  {
   "cell_type": "markdown",
   "id": "3e3207c9",
   "metadata": {},
   "source": [
    "# Slicing a tensor"
   ]
  },
  {
   "cell_type": "code",
   "execution_count": 16,
   "id": "773c26ff",
   "metadata": {},
   "outputs": [
    {
     "name": "stdout",
     "output_type": "stream",
     "text": [
      "`row_vector`: tensor([4, 5, 6])\n",
      "`column_vector`: tensor([2, 5, 8])\n",
      "`scalar`: 2\n"
     ]
    }
   ],
   "source": [
    "row_vector = matrix[1]\n",
    "column_vector = matrix[:, 1]\n",
    "scalar = matrix[0, 1]\n",
    "\n",
    "print(f\"`row_vector`: {row_vector}\")\n",
    "print(f\"`column_vector`: {column_vector}\")\n",
    "print(f\"`scalar`: {scalar}\")"
   ]
  },
  {
   "cell_type": "markdown",
   "id": "3f3a7bca",
   "metadata": {},
   "source": [
    "## 1.2 Computations on Tensors\n",
    "\n",
    "A convenient way to think about and visualize computations in a machine learning framework like PyTorch is in terms of graphs. We can define this graph in terms of tensors, which hold data, and the mathematical operations that act on these tensors in some order. Let's look at a simple example, and define this computation using PyTorch:\n",
    "\n",
    "![alt text](https://raw.githubusercontent.com/MITDeepLearning/introtodeeplearning/2025/lab1/img/add-graph.png)"
   ]
  },
  {
   "cell_type": "code",
   "execution_count": 17,
   "id": "9add4827",
   "metadata": {},
   "outputs": [
    {
     "name": "stdout",
     "output_type": "stream",
     "text": [
      "c1: 76\n",
      "c2: 76\n"
     ]
    }
   ],
   "source": [
    "# Create the nodes in the graph and initialize values\n",
    "a = torch.tensor(15)\n",
    "b = torch.tensor(61)\n",
    "\n",
    "# Add them!\n",
    "c1 = torch.add(a, b)\n",
    "c2 = a + b  # PyTorch overrides the \"+\" operation so that it is able to act on Tensors\n",
    "print(f\"c1: {c1}\")\n",
    "print(f\"c2: {c2}\")"
   ]
  },
  {
   "cell_type": "markdown",
   "id": "3de307bf",
   "metadata": {},
   "source": [
    "Notice how we've created a computation graph consisting of PyTorch operations, and how the output is a tensor with value 76 -- we've just created a computation graph consisting of operations, and it's executed them and given us back the result.\n",
    "\n",
    "Now let's consider a slightly more complicated example:\n",
    "\n",
    "![alt text](https://raw.githubusercontent.com/MITDeepLearning/introtodeeplearning/2025/lab1/img/computation-graph.png)\n",
    "\n",
    "Here, we take two inputs, `a, b`, and compute an output `e`. Each node in the graph represents an operation that takes some input, does some computation, and passes its output to another node.\n",
    "\n",
    "Let's define a simple function in PyTorch to construct this computation function:"
   ]
  },
  {
   "cell_type": "code",
   "execution_count": 19,
   "id": "ebb2604e",
   "metadata": {},
   "outputs": [
    {
     "name": "stdout",
     "output_type": "stream",
     "text": [
      "e_out: 6.0\n"
     ]
    }
   ],
   "source": [
    "### Defining Tensor computations ###\n",
    "\n",
    "# Construct a simple computation function\n",
    "def func(a, b):\n",
    "    '''TODO: Define the operation for c, d, e.'''\n",
    "    c = torch.add(a, b)\n",
    "    d = torch.subtract(b, 1)\n",
    "    e = torch.multiply(c, d)\n",
    "    return e\n",
    "\n",
    "# Consider example values for a,b\n",
    "a, b = 1.5, 2.5\n",
    "# Execute the computation\n",
    "e_out = func(a, b)\n",
    "print(f\"e_out: {e_out}\")"
   ]
  },
  {
   "cell_type": "markdown",
   "id": "6e4c3817",
   "metadata": {},
   "source": [
    "## 1.3 Neural networks in PyTorch\n",
    "We can also define neural networks in PyTorch. PyTorch uses [``torch.nn.Module``](https://pytorch.org/docs/stable/generated/torch.nn.Module.html), which serves as a base class for all neural network modules in PyTorch and thus provides a framework for building and training neural networks.\n",
    "\n",
    "Let's consider the example of a simple perceptron defined by just one dense (aka fully-connected or linear) layer: $ y = \\sigma(Wx + b) $, where $W$ represents a matrix of weights, $b$ is a bias, $x$ is the input, $\\sigma$ is the sigmoid activation function, and $y$ is the output.\n",
    "\n",
    "![alt text](https://raw.githubusercontent.com/MITDeepLearning/introtodeeplearning/2025/lab1/img/computation-graph-2.png)\n",
    "\n",
    "We will use `torch.nn.Module` to define layers -- the building blocks of neural networks. Layers implement common neural networks operations. In PyTorch, when we implement a layer, we subclass `nn.Module` and define the parameters of the layer as attributes of our new class. We also define and override a function [``forward``](https://pytorch.org/docs/stable/generated/torch.nn.Module.html#torch.nn.Module.forward), which will define the forward pass computation that is performed at every step. All classes subclassing `nn.Module` should override the `forward` function.\n",
    "\n",
    "Let's write a dense layer class to implement a perceptron defined above.\n"
   ]
  },
  {
   "cell_type": "code",
   "execution_count": 22,
   "id": "0fa8b86b",
   "metadata": {},
   "outputs": [],
   "source": [
    "class OurDenseLayer(torch.nn.Module):\n",
    "    def __init__(self, input_dim, output_dim):\n",
    "        super(OurDenseLayer, self).__init__()\n",
    "        self.w = torch.nn.Parameter(torch.randn(input_dim, output_dim))\n",
    "        self.b = torch.nn.Parameter(torch.randn(output_dim))\n",
    "        \n",
    "    def forward(self, x):\n",
    "        z = torch.add(torch.matmul(x, self.w) ,self.b)\n",
    "        y = torch.sigmoid(z)\n",
    "        return y"
   ]
  },
  {
   "cell_type": "code",
   "execution_count": 26,
   "id": "a353f219",
   "metadata": {},
   "outputs": [
    {
     "name": "stdout",
     "output_type": "stream",
     "text": [
      "x: tensor([[0.5000, 0.8000]])\n",
      "y: tensor([[0.5247, 0.4510, 0.7936]], grad_fn=<SigmoidBackward0>)\n"
     ]
    }
   ],
   "source": [
    "indim = 2\n",
    "outdim = 3\n",
    "layer = OurDenseLayer(input_dim=indim, output_dim=outdim)\n",
    "x = torch.tensor([[0.5, 0.8]])\n",
    "y = layer(x)\n",
    "print(\"x:\", x)\n",
    "print(\"y:\", y)"
   ]
  },
  {
   "cell_type": "markdown",
   "id": "969865f5",
   "metadata": {},
   "source": [
    "Conveniently, PyTorch has defined a number of ```nn.Modules``` (or Layers) that are commonly used in neural networks, for example a [```nn.Linear```](https://pytorch.org/docs/stable/generated/torch.nn.Linear.html) or [`nn.Sigmoid`](https://pytorch.org/docs/stable/generated/torch.nn.Sigmoid.html) module.\n",
    "\n",
    "Now, instead of using a single ```Module``` to define our simple neural network, we'll use the  [`nn.Sequential`](https://pytorch.org/docs/stable/generated/torch.nn.Sequential.html) module from PyTorch and a single [`nn.Linear` ](https://pytorch.org/docs/stable/generated/torch.nn.Linear.html) layer to define our network. With the `Sequential` API, you can readily create neural networks by stacking together layers like building blocks."
   ]
  },
  {
   "cell_type": "code",
   "execution_count": 30,
   "id": "4128e533",
   "metadata": {},
   "outputs": [
    {
     "name": "stdout",
     "output_type": "stream",
     "text": [
      "y: tensor([[0.4018, 0.6548, 0.2797]], grad_fn=<SigmoidBackward0>)\n"
     ]
    }
   ],
   "source": [
    "### Defining a neural network using the PyTorch Sequential API ###\n",
    "indim = 2\n",
    "outdim = 3\n",
    "model = nn.Sequential(\n",
    "    nn.Linear(indim, outdim),\n",
    "    nn.Sigmoid()\n",
    ")\n",
    "\n",
    "y = model(x)\n",
    "print(\"y:\", y)\n",
    "        "
   ]
  },
  {
   "cell_type": "code",
   "execution_count": 31,
   "id": "0d24151c",
   "metadata": {},
   "outputs": [],
   "source": [
    "### Defining a model using subclassing ###\n",
    "\n",
    "class LinearWithSigmoidActivation(nn.Module):\n",
    "    def __init__(self, input_dim, output_dim):\n",
    "        super(LinearWithSigmoidActivation, self).__init__()\n",
    "        self.linear = nn.Linear(input_dim, output_dim)\n",
    "        self.activation = nn.Sigmoid()\n",
    "        \n",
    "    def forward(self, x):\n",
    "        z = self.linear(x)\n",
    "        y = self.activation(z)\n",
    "        return y"
   ]
  },
  {
   "cell_type": "code",
   "execution_count": 32,
   "id": "84d2eb7c",
   "metadata": {},
   "outputs": [
    {
     "name": "stdout",
     "output_type": "stream",
     "text": [
      "y: tensor([[0.3909, 0.4513, 0.5842]], grad_fn=<SigmoidBackward0>)\n"
     ]
    }
   ],
   "source": [
    "model = LinearWithSigmoidActivation(input_dim=indim, output_dim=outdim)\n",
    "y = model(x)\n",
    "print(\"y:\", y)"
   ]
  },
  {
   "cell_type": "code",
   "execution_count": 33,
   "id": "f82574e1",
   "metadata": {},
   "outputs": [],
   "source": [
    "### Custom behavior with subclassing nn.Module ###\n",
    "\n",
    "class LinearButSometimesIdentity(nn.Module):\n",
    "    def __init__(self, num_inputs, num_outputs):\n",
    "        super(LinearButSometimesIdentity, self).__init__()\n",
    "        self.linear = nn.Linear(num_inputs, num_outputs)\n",
    "\n",
    "    '''TODO: Implement the behavior where the network outputs the input, unchanged,\n",
    "        under control of the isidentity argument.'''\n",
    "    def forward(self, inputs, isidentity=False):\n",
    "        if isidentity:\n",
    "            return inputs\n",
    "        else:\n",
    "            return self.linear(inputs)"
   ]
  },
  {
   "cell_type": "code",
   "execution_count": 38,
   "id": "9c2c8b9d",
   "metadata": {},
   "outputs": [
    {
     "name": "stdout",
     "output_type": "stream",
     "text": [
      "y: tensor([[0.5000, 0.8000]])\n",
      "y: tensor([[-0.6449,  0.1152,  0.5942]], grad_fn=<AddmmBackward0>)\n"
     ]
    }
   ],
   "source": [
    "model = LinearButSometimesIdentity(num_inputs=indim, num_outputs=outdim)\n",
    "y = model(x, isidentity=True)\n",
    "print(\"y:\", y)  \n",
    "y = model(x)\n",
    "print(\"y:\", y)  \n"
   ]
  },
  {
   "cell_type": "markdown",
   "id": "67141fb5",
   "metadata": {},
   "source": [
    "## 1.4 Automatic Differentiation in PyTorch\n",
    "\n",
    "In PyTorch, [`torch.autograd`](https://pytorch.org/docs/stable/autograd.html) is used for [automatic differentiation](https://en.wikipedia.org/wiki/Automatic_differentiation), which is critical for training deep learning models with [backpropagation](https://en.wikipedia.org/wiki/Backpropagation).\n",
    "\n",
    "We will use the PyTorch [`.backward()`](https://pytorch.org/docs/stable/generated/torch.Tensor.backward.html) method to trace operations for computing gradients. On a tensor, the [`requires_grad`](https://pytorch.org/docs/stable/generated/torch.Tensor.requires_grad_.html) attribute controls whether autograd should record operations on that tensor. When a forward pass is made through the network, PyTorch builds a computational graph dynamically; then, to compute the gradient, the `backward()` method is called to perform backpropagation.\n",
    "\n",
    "Let's compute the gradient of $ y = x^2 $:"
   ]
  },
  {
   "cell_type": "code",
   "execution_count": 43,
   "id": "fa9834c1",
   "metadata": {},
   "outputs": [
    {
     "name": "stdout",
     "output_type": "stream",
     "text": [
      "The gradient dy/dx at x=3.0 is 6.0\n"
     ]
    }
   ],
   "source": [
    "x = torch.tensor(3.0, requires_grad=True)\n",
    "y = x ** 2\n",
    "y.backward()\n",
    "\n",
    "print(f\"The gradient dy/dx at x={x.item()} is {x.grad.item()}\")"
   ]
  },
  {
   "cell_type": "code",
   "execution_count": 46,
   "id": "a27abad9",
   "metadata": {},
   "outputs": [
    {
     "name": "stdout",
     "output_type": "stream",
     "text": [
      "27.0\n"
     ]
    }
   ],
   "source": [
    "x = torch.tensor(3.0, requires_grad=True)\n",
    "\n",
    "y = x ** 3\n",
    "y.backward()\n",
    "\n",
    "print(x.grad.item())"
   ]
  },
  {
   "cell_type": "code",
   "execution_count": 51,
   "id": "cd2a01f2",
   "metadata": {},
   "outputs": [
    {
     "name": "stdout",
     "output_type": "stream",
     "text": [
      "Initializing x=0.4289320707321167\n"
     ]
    },
    {
     "data": {
      "image/png": "[encoded data removed]",
      "text/plain": [
       "<Figure size 640x480 with 1 Axes>"
      ]
     },
     "metadata": {},
     "output_type": "display_data"
    }
   ],
   "source": [
    "### Function minimization with autograd and gradient descent ###\n",
    "\n",
    "# Initialize a random value for our intial x\n",
    "x = torch.randn(1)\n",
    "print(f\"Initializing x={x.item()}\")\n",
    "\n",
    "learning_rate = 1e-2  # Learning rate\n",
    "history = []\n",
    "x_f = 4  # Target value\n",
    "\n",
    "\n",
    "# We will run gradient descent for a number of iterations. At each iteration, we compute the loss,\n",
    "#   compute the derivative of the loss with respect to x, and perform the update.\n",
    "for i in range(500):\n",
    "    x = torch.tensor([x], requires_grad=True)\n",
    "\n",
    "    # TODO: Compute the loss as the square of the difference between x and x_f\n",
    "    loss = torch.pow(x - x_f, 2)\n",
    "\n",
    "    # Backpropagate through the loss to compute gradients\n",
    "    loss.backward()\n",
    "\n",
    "    # Update x with gradient descent\n",
    "    x = x.item() - learning_rate * x.grad\n",
    "\n",
    "    history.append(x.item())\n",
    "\n",
    "# Plot the evolution of x as we optimize toward x_f!\n",
    "plt.plot(history)\n",
    "plt.plot([0, 500], [x_f, x_f])\n",
    "plt.legend(('Predicted', 'True'))\n",
    "plt.xlabel('Iteration')\n",
    "plt.ylabel('x value')\n",
    "plt.show()"
   ]
  },
  {
   "cell_type": "markdown",
   "id": "cd4fa7d0",
   "metadata": {},
   "source": []
  }
 ],
 "metadata": {
  "kernelspec": {
   "display_name": "mlcc",
   "language": "python",
   "name": "python3"
  },
  "language_info": {
   "codemirror_mode": {
    "name": "ipython",
    "version": 3
   },
   "file_extension": ".py",
   "mimetype": "text/x-python",
   "name": "python",
   "nbconvert_exporter": "python",
   "pygments_lexer": "ipython3",
   "version": "3.11.13"
  }
 },
 "nbformat": 4,
 "nbformat_minor": 5
}
