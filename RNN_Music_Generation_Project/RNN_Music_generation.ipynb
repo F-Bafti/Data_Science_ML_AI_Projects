{
 "cells": [
  {
   "cell_type": "markdown",
   "id": "6995718d",
   "metadata": {},
   "source": [
    "# Music Generation with RNNs\n",
    "\n",
    "In this portion of the lab, we will explore building a Recurrent Neural Network (RNN) for music generation using \n",
    "PyTorch. We will train a model to learn the patterns in raw sheet music in [ABC notation](https://en.wikipedia.org/wiki/ABC_notation) and then use this model to generate new music."
   ]
  },
  {
   "cell_type": "markdown",
   "id": "10b1730b",
   "metadata": {},
   "source": [
    "NOTE: See LSTM Music generation notes after the RNN model pic for more explanations"
   ]
  },
  {
   "cell_type": "code",
   "execution_count": null,
   "id": "0efea613",
   "metadata": {},
   "outputs": [
    {
     "name": "stderr",
     "output_type": "stream",
     "text": [
      "2025-10-20 16:16:58.269487: I tensorflow/core/platform/cpu_feature_guard.cc:210] This TensorFlow binary is optimized to use available CPU instructions in performance-critical operations.\n",
      "To enable the following instructions: AVX2 FMA, in other operations, rebuild TensorFlow with the appropriate compiler flags.\n",
      "Gym has been unmaintained since 2022 and does not support NumPy 2.0 amongst other critical functionality.\n",
      "Please upgrade to Gymnasium, the maintained drop-in replacement of Gym, or contact the authors of your software and request that they upgrade.\n",
      "Users of this version of Gym should be able to simply replace 'import gym' with 'import gymnasium as gym' in the vast majority of cases.\n",
      "See the migration guide at https://gymnasium.farama.org/introduction/migration_guide/ for additional information.\n"
     ]
    }
   ],
   "source": [
    "# !pip install comet_ml > /dev/null 2>&1\n",
    "import comet_ml\n",
    "COMET_API_KEY = \"YOUR API KEY\" \n",
    "\n",
    "# Import PyTorch and other relevant libraries\n",
    "import torch\n",
    "import torch.nn as nn\n",
    "import torch.optim as optim\n",
    "\n",
    "# Download and import the MIT Introduction to Deep Learning package\n",
    "# !pip install mitdeeplearning --quiet\n",
    "import mitdeeplearning as mdl\n",
    "\n",
    "# Import all remaining packages\n",
    "import numpy as np\n",
    "import os\n",
    "import time\n",
    "import functools\n",
    "from IPython import display as ipythondisplay\n",
    "from tqdm import tqdm\n",
    "from scipy.io.wavfile import write\n",
    "# !apt-get install abcmidi timidity > /dev/null 2>&1\n",
    "\n",
    "\n",
    "# Check that we are using a GPU, if not switch runtimes\n",
    "#   using Runtime > Change Runtime Type > GPU\n",
    "assert torch.cuda.is_available(), \"Please enable GPU from runtime settings\"\n",
    "assert COMET_API_KEY != \"\", \"Please insert your Comet API Key\""
   ]
  },
  {
   "cell_type": "markdown",
   "id": "9df57c64",
   "metadata": {},
   "source": [
    "## 2.2 Dataset\n",
    "\n",
    "We've gathered a dataset of thousands of Irish folk songs, represented in the ABC notation. Let's download the dataset and inspect it:\n"
   ]
  },
  {
   "cell_type": "code",
   "execution_count": 2,
   "id": "d5614465",
   "metadata": {},
   "outputs": [
    {
     "name": "stdout",
     "output_type": "stream",
     "text": [
      "Found 817 songs in text\n",
      "\n",
      "Example song: \n",
      "X:1\n",
      "T:Alexander's\n",
      "Z: id:dc-hornpipe-1\n",
      "M:C|\n",
      "L:1/8\n",
      "K:D Major\n",
      "(3ABc|dAFA DFAd|fdcd FAdf|gfge fefd|(3efe (3dcB A2 (3ABc|!\n",
      "dAFA DFAd|fdcd FAdf|gfge fefd|(3efe dc d2:|!\n",
      "AG|FAdA FAdA|GBdB GBdB|Acec Acec|dfaf gecA|!\n",
      "FAdA FAdA|GBdB GBdB|Aceg fefd|(3efe dc d2:|!\n"
     ]
    }
   ],
   "source": [
    "# Download the dataset\n",
    "songs = mdl.lab1.load_training_data()\n",
    "\n",
    "# Print one of the songs to inspect it in greater detail!\n",
    "example_song = songs[0]\n",
    "print(\"\\nExample song: \")\n",
    "print(example_song)"
   ]
  },
  {
   "cell_type": "code",
   "execution_count": 1,
   "id": "32061bbe",
   "metadata": {},
   "outputs": [],
   "source": [
    "# Convert the ABC notation to audio file and listen to it\n",
    "# mdl.lab1.play_song(example_song)"
   ]
  },
  {
   "cell_type": "markdown",
   "id": "c0bb440c",
   "metadata": {},
   "source": [
    "One important thing to think about is that this notation of music does not simply contain information on the notes being played, but additionally there is meta information such as the song title, key, and tempo. How does the number of different characters that are present in the text file impact the complexity of the learning problem? This will become important soon, when we generate a numerical representation for the text data."
   ]
  },
  {
   "cell_type": "code",
   "execution_count": 4,
   "id": "4fd03b37",
   "metadata": {},
   "outputs": [
    {
     "name": "stdout",
     "output_type": "stream",
     "text": [
      "200679\n",
      "There are 83 unique characters in the dataset\n"
     ]
    }
   ],
   "source": [
    "# Join our list of song strings into a single string containing all songs\n",
    "songs_joined = \"\\n\\n\".join(songs)\n",
    "print(len(songs_joined))\n",
    "\n",
    "vocab = sorted(set(songs_joined))\n",
    "print(\"There are\", len(vocab), \"unique characters in the dataset\")"
   ]
  },
  {
   "cell_type": "markdown",
   "id": "d1c7fcae",
   "metadata": {},
   "source": [
    "## 2.3 Process the dataset for the learning task\n",
    "\n",
    "Let's take a step back and consider our prediction task. We're trying to train an RNN model to learn patterns in ABC music, and then use this model to generate (i.e., predict) a new piece of music based on this learned information.\n",
    "\n",
    "Breaking this down, what we're really asking the model is: given a character, or a sequence of characters, what is the most probable next character? We'll train the model to perform this task.\n",
    "\n",
    "To achieve this, we will input a sequence of characters to the model, and train the model to predict the output, that is, the following character at each time step. RNNs maintain an internal state that depends on previously seen elements, so information about all characters seen up until a given moment will be taken into account in generating the prediction."
   ]
  },
  {
   "cell_type": "markdown",
   "id": "10ff19b5",
   "metadata": {},
   "source": [
    "# Vectorize the text\n",
    "\n",
    "Before we begin training our RNN model, we'll need to create a numerical representation of our text-based dataset. To do this, we'll generate two lookup tables: one that maps characters to numbers, and a second that maps numbers back to characters. Recall that we just identified the unique characters present in the text.\n"
   ]
  },
  {
   "cell_type": "code",
   "execution_count": 5,
   "id": "1c7b8778",
   "metadata": {},
   "outputs": [],
   "source": [
    "### Define numerical representation of text ###\n",
    "\n",
    "# Create a mapping from character to unique index.\n",
    "# For example, to get the index of the character \"d\",\n",
    "#   we can evaluate `char2idx[\"d\"]`.\n",
    "char2idx = {u: i for i, u in enumerate(vocab)}\n",
    "\n",
    "# Create a mapping from indices to characters. This is\n",
    "#   the inverse of char2idx and allows us to convert back\n",
    "#   from unique index to the character in our vocabulary.\n",
    "idx2char = np.array(vocab)"
   ]
  },
  {
   "cell_type": "code",
   "execution_count": 6,
   "id": "cc629e46",
   "metadata": {},
   "outputs": [
    {
     "name": "stdout",
     "output_type": "stream",
     "text": [
      "{\n",
      "  '\\n':   0,\n",
      "  ' ' :   1,\n",
      "  '!' :   2,\n",
      "  '\"' :   3,\n",
      "  '#' :   4,\n",
      "  \"'\" :   5,\n",
      "  '(' :   6,\n",
      "  ')' :   7,\n",
      "  ',' :   8,\n",
      "  '-' :   9,\n",
      "  '.' :  10,\n",
      "  '/' :  11,\n",
      "  '0' :  12,\n",
      "  '1' :  13,\n",
      "  '2' :  14,\n",
      "  '3' :  15,\n",
      "  '4' :  16,\n",
      "  '5' :  17,\n",
      "  '6' :  18,\n",
      "  '7' :  19,\n",
      "  ...\n",
      "}\n"
     ]
    }
   ],
   "source": [
    "print('{')\n",
    "for char, _ in zip(char2idx, range(20)):\n",
    "    print('  {:4s}: {:3d},'.format(repr(char), char2idx[char]))\n",
    "print('  ...\\n}')"
   ]
  },
  {
   "cell_type": "code",
   "execution_count": null,
   "id": "0aea746a",
   "metadata": {},
   "outputs": [],
   "source": [
    "### Vectorize the songs string ###\n",
    "def vectorize_string(string):\n",
    "    \"\"\"Convert a string into a numeric vector using char2idx mapping.\"\"\"\n",
    "    string_vector = np.array([char2idx[s] for s in string], dtype=np.int32)\n",
    "    return string_vector\n",
    "\n",
    "vectorized_songs = vectorize_string(songs_joined)"
   ]
  },
  {
   "cell_type": "code",
   "execution_count": 8,
   "id": "69f3ec73",
   "metadata": {},
   "outputs": [
    {
     "name": "stdout",
     "output_type": "stream",
     "text": [
      "'X:1\\nT:Alex' ---- characters mapped to int ----> [49 22 13  0 45 22 26 67 60 79]\n"
     ]
    }
   ],
   "source": [
    "print ('{} ---- characters mapped to int ----> {}'.format(repr(songs_joined[:10]), vectorized_songs[:10]))\n",
    "# check that vectorized_songs is a numpy array\n",
    "assert isinstance(vectorized_songs, np.ndarray), \"returned result should be a numpy array\""
   ]
  },
  {
   "cell_type": "markdown",
   "id": "a6e7a3d6",
   "metadata": {},
   "source": [
    "### Create training examples and targets\n",
    "\n",
    "Our next step is to actually divide the text into example sequences that we'll use during training. Each input sequence that we feed into our RNN will contain `seq_length` characters from the text. We'll also need to define a target sequence for each input sequence, which will be used in training the RNN to predict the next character. For each input, the corresponding target will contain the same length of text, except shifted one character to the right.\n",
    "\n",
    "To do this, we'll break the text into chunks of `seq_length+1`. Suppose `seq_length` is 4 and our text is \"Hello\". Then, our input sequence is \"Hell\" and the target sequence is \"ello\".\n",
    "\n",
    "The batch method will then let us convert this stream of character indices to sequences of the desired size."
   ]
  },
  {
   "cell_type": "code",
   "execution_count": null,
   "id": "dacd0647",
   "metadata": {},
   "outputs": [
    {
     "name": "stdout",
     "output_type": "stream",
     "text": [
      "Batch function works correctly!\n"
     ]
    },
    {
     "name": "stderr",
     "output_type": "stream",
     "text": [
      "/tmp/ipykernel_367009/3830148394.py:16: UserWarning: Creating a tensor from a list of numpy.ndarrays is extremely slow. Please consider converting the list to a single numpy.ndarray with numpy.array() before converting to a tensor. (Triggered internally at /pytorch/torch/csrc/utils/tensor_new.cpp:253.)\n",
      "  x_batch = torch.tensor(input_batch, dtype=torch.long)\n"
     ]
    }
   ],
   "source": [
    "### Batch definition to create training examples ###\n",
    "\n",
    "def get_batch(vectorized_songs, seq_length, batch_size):\n",
    "    # the length of the vectorized songs string\n",
    "    n = vectorized_songs.shape[0] - 1\n",
    "    # randomly choose the starting indices for the examples in the training batch\n",
    "    idx = np.random.choice(n - seq_length, batch_size)\n",
    "\n",
    "    input_batch = [vectorized_songs[i : i + seq_length] for i in idx]\n",
    "\n",
    "    output_batch = [vectorized_songs[i + 1 : i + seq_length + 1] for i in idx]\n",
    "\n",
    "    # # Convert the input and output batches to tensors\n",
    "    x_batch = torch.tensor(input_batch, dtype=torch.long)\n",
    "    y_batch = torch.tensor(output_batch, dtype=torch.long)\n",
    "\n",
    "    return x_batch, y_batch\n",
    "\n",
    "# # Perform some simple tests to make sure your batch function is working properly!\n",
    "test_args = (vectorized_songs, 10, 2)\n",
    "x_batch, y_batch = get_batch(*test_args)\n",
    "assert x_batch.shape == (2, 10), \"x_batch shape is incorrect\"\n",
    "assert y_batch.shape == (2, 10), \"y_batch shape is incorrect\"\n",
    "print(\"Batch function works correctly!\")\n"
   ]
  },
  {
   "cell_type": "markdown",
   "id": "c395a19a",
   "metadata": {},
   "source": [
    "For each of these vectors, each index is processed at a single time step. So, for the input at time step 0, the model receives the index for the first character in the sequence, and tries to predict the index of the next character. At the next timestep, it does the same thing, but the RNN considers the information from the previous step, i.e., its updated state, in addition to the current input.\n",
    "\n",
    "We can make this concrete by taking a look at how this works over the first several characters in our text:\n"
   ]
  },
  {
   "cell_type": "code",
   "execution_count": 10,
   "id": "4fce3c08",
   "metadata": {},
   "outputs": [
    {
     "name": "stdout",
     "output_type": "stream",
     "text": [
      "Step   0\n",
      "  input: 43 (np.str_('R'))\n",
      "  expected output: 70 (np.str_('o'))\n",
      "Step   1\n",
      "  input: 70 (np.str_('o'))\n",
      "  expected output: 56 (np.str_('a'))\n",
      "Step   2\n",
      "  input: 56 (np.str_('a'))\n",
      "  expected output: 59 (np.str_('d'))\n",
      "Step   3\n",
      "  input: 59 (np.str_('d'))\n",
      "  expected output: 1 (np.str_(' '))\n",
      "Step   4\n",
      "  input: 1 (np.str_(' '))\n",
      "  expected output: 75 (np.str_('t'))\n"
     ]
    }
   ],
   "source": [
    "x_batch, y_batch = get_batch(vectorized_songs, seq_length=5, batch_size=1)\n",
    "\n",
    "for i, (input_idx, target_idx) in enumerate(zip(x_batch[0], y_batch[0])):\n",
    "    print(\"Step {:3d}\".format(i))\n",
    "    print(\"  input: {} ({:s})\".format(input_idx, repr(idx2char[input_idx.item()])))\n",
    "    print(\"  expected output: {} ({:s})\".format(target_idx, repr(idx2char[target_idx.item()])))"
   ]
  },
  {
   "cell_type": "markdown",
   "id": "bde19090",
   "metadata": {},
   "source": [
    "## 2.4 The Recurrent Neural Network (RNN) model\n",
    "\n",
    "Now we're ready to define and train an RNN model on our ABC music dataset, and then use that trained model to generate a new song. We'll train our RNN using batches of song snippets from our dataset, which we generated in the previous section.\n",
    "\n",
    "The model is based off the LSTM architecture, where we use a state vector to maintain information about the temporal relationships between consecutive characters. The final output of the LSTM is then fed into a fully connected linear [`nn.Linear`](https://pytorch.org/docs/stable/generated/torch.nn.Linear.html) layer where we'll output a softmax over each character in the vocabulary, and then sample from this distribution to predict the next character.\n",
    "\n",
    "As we introduced in the first portion of this lab, we'll be using PyTorch's [`nn.Module`](https://pytorch.org/docs/stable/generated/torch.nn.Module.html) to define the model. Three components are used to define the model:\n",
    "\n",
    "* [`nn.Embedding`](https://pytorch.org/docs/stable/generated/torch.nn.Embedding.html): This is the input layer, consisting of a trainable lookup table that maps the numbers of each character to a vector with `embedding_dim` dimensions.\n",
    "* [`nn.LSTM`](https://pytorch.org/docs/stable/generated/torch.nn.LSTM.html): Our LSTM network, with size `hidden_size`.\n",
    "* [`nn.Linear`](https://pytorch.org/docs/stable/generated/torch.nn.Linear.html): The output layer, with `vocab_size` outputs.\n",
    "\n",
    "<img src=\"https://raw.githubusercontent.com/MITDeepLearning/introtodeeplearning/2019/lab1/img/lstm_unrolled-01-01.png\" alt=\"Drawing\"/>\n",
    "\n",
    "\n",
    "\n",
    "<!--\n",
    "Now we're ready to define and train a RNN model on our ABC music dataset, and then use that trained model to generate a new song. We'll train our RNN using batches of song snippets from our dataset, which we generated in the previous section.\n",
    "\n",
    "The model is based off the LSTM architecture, where we use a state vector to maintain information about the temporal relationships between consecutive characters. The final output of the LSTM is then fed into a fully connected [`Dense`](https://www.tensorflow.org/api_docs/python/tf/keras/layers/Dense) layer where we'll output a softmax over each character in the vocabulary, and then sample from this distribution to predict the next character.\n",
    "\n",
    "As we introduced in the first portion of this lab, we'll be using the Keras API, specifically, [`tf.keras.Sequential`](https://www.tensorflow.org/api_docs/python/tf/keras/models/Sequential), to define the model. Three layers are used to define the model:\n",
    "\n",
    "* [`tf.keras.layers.Embedding`](https://www.tensorflow.org/api_docs/python/tf/keras/layers/Embedding): This is the input layer, consisting of a trainable lookup table that maps the numbers of each character to a vector with `embedding_dim` dimensions.\n",
    "* [`tf.keras.layers.LSTM`](https://www.tensorflow.org/api_docs/python/tf/keras/layers/LSTM): Our LSTM network, with size `units=rnn_units`.\n",
    "* [`tf.keras.layers.Dense`](https://www.tensorflow.org/api_docs/python/tf/keras/layers/Dense): The output layer, with `vocab_size` outputs.\n",
    "\n",
    "\n",
    "<img src=\"https://raw.githubusercontent.com/MITDeepLearning/introtodeeplearning/2019/lab1/img/lstm_unrolled-01-01.png\" alt=\"Drawing\"/> -->"
   ]
  },
  {
   "cell_type": "markdown",
   "id": "04135fc3",
   "metadata": {},
   "source": [
    "# LSTM Music Generation - Notes\n",
    "\n",
    "### Assumptions\n",
    "- **Vocab size** = 83  \n",
    "- **Batch size** = 32  \n",
    "- **LSTM hidden units** = 128  \n",
    "- **Embedding size** = 256  \n",
    "- **Sequence length** = 100  \n",
    "\n",
    "---\n",
    "\n",
    "### 1️⃣ Encoding the Input\n",
    "After combining all the music texts, the vocabulary size is 83.  \n",
    "- One option: represent each symbol as a **one-hot vector**.  \n",
    "- Better option: use a **PyTorch embedding layer**, which maps each symbol (integer index) to a **dense, learnable vector**.  \n",
    "- Embedding size is a hyperparameter — here we chose 256, **not necessarily equal to the vocab size**.\n",
    "\n",
    "---\n",
    "\n",
    "### 2️⃣ Creating Training Sequences and Labels\n",
    "- Randomly select **starting indices** in the joined songs text.  \n",
    "- For each starting index, take a **sequence of length 100** as the **input sequence**.  \n",
    "- The **target sequence** is the **next 100 symbols**, i.e., shifted by one position.  \n",
    "- Repeat 32 times → **batch of 32 sequences** of length 100.\n",
    "\n",
    "---\n",
    "\n",
    "### 3️⃣ Feeding Input to the Model\n",
    "- The **full input sequence** is fed to the model at once, shape `(batch_size, seq_length)` → `(32, 100)`.  \n",
    "- Each symbol passes through the **embedding layer** → shape `(batch_size, seq_length, embedding_dim)` → `(32, 100, 256)`.  \n",
    "- The **LSTM layer** processes the entire sequence internally:\n",
    "  - Updates **hidden and cell states** at each time step.  \n",
    "  - Produces outputs for all time steps at once → shape `(batch_size, seq_length, hidden_size)` → `(32, 100, 128)`.  \n",
    "- The **fully connected layer** maps the LSTM outputs to vocabulary probabilities → `(batch_size, seq_length, vocab_size)` → `(32, 100, 83)`.\n",
    "\n",
    "---\n",
    "\n",
    "### 4️⃣ State Propagation\n",
    "- The LSTM keeps **hidden and cell states** which are carried forward between time steps.  \n",
    "- This allows the model to capture **temporal dependencies** across the sequence.\n",
    "\n",
    "---\n",
    "\n",
    "### 5️⃣ Loss Computation and Backpropagation\n",
    "- Compute **loss over the entire sequence** comparing predicted outputs and target sequences.  \n",
    "- `loss.backward()` performs **backpropagation through time (BPTT)**, automatically accumulating gradients across all time steps.  \n",
    "- `optimizer.step()` updates the **shared weights** of the embedding, LSTM, and FC layers.  \n",
    "\n",
    "---\n",
    "\n",
    "### ✅ Key Points / Clarifications\n",
    "- Embedding size **≠ vocab size**; it’s a tunable hyperparameter.  \n",
    "- Input to embedding layer is **indices**, not one-hot vectors.  \n",
    "- Target sequence is offset by **one time step**, not “plus one numeric index.”  \n",
    "- **All time steps are processed in one forward pass**; gradients are accumulated across the sequence during BPTT.  \n",
    "- Sequence length is consistent for both input and target."
   ]
  },
  {
   "cell_type": "markdown",
   "id": "9e6961c6",
   "metadata": {},
   "source": [
    "### Define the RNN model"
   ]
  },
  {
   "cell_type": "code",
   "execution_count": 11,
   "id": "53098fe5",
   "metadata": {},
   "outputs": [],
   "source": [
    "class LSTMModel(nn.Module):\n",
    "    def __init__(self, vocab_size, embedding_dim, hidden_size):\n",
    "        super(LSTMModel, self).__init__()\n",
    "        self.hidden_size = hidden_size\n",
    "        self.embedding = nn.Embedding(num_embeddings=vocab_size, embedding_dim=embedding_dim)\n",
    "        self.lstm = nn.LSTM(input_size=embedding_dim, hidden_size=hidden_size, num_layers=1, batch_first=True)\n",
    "        self.fc = nn.Linear(hidden_size, vocab_size)\n",
    "\n",
    "    def init_hidden(self, batch_size, device):\n",
    "        return (torch.zeros(1, batch_size, self.hidden_size).to(device),\n",
    "                torch.zeros(1, batch_size, self.hidden_size).to(device))\n",
    "\n",
    "    def forward(self, x, state=None, return_state=False):\n",
    "        x = self.embedding(x)  # (batch, seq_len, emb_dim)\n",
    "        if state is None:\n",
    "            state = self.init_hidden(x.size(0), x.device)\n",
    "\n",
    "        out, state = self.lstm(x, state)  # (batch, seq_len, hidden_size)\n",
    "        out = self.fc(out)                # (batch, seq_len, vocab_size)\n",
    "        \n",
    "        return out if not return_state else (out, state)\n",
    "    \n",
    "    "
   ]
  },
  {
   "cell_type": "code",
   "execution_count": 12,
   "id": "c6801cf6",
   "metadata": {},
   "outputs": [
    {
     "name": "stdout",
     "output_type": "stream",
     "text": [
      "LSTMModel(\n",
      "  (embedding): Embedding(83, 256)\n",
      "  (lstm): LSTM(256, 1024, batch_first=True)\n",
      "  (fc): Linear(in_features=1024, out_features=83, bias=True)\n",
      ")\n"
     ]
    }
   ],
   "source": [
    "# Instantiate the model! Build a simple model with default hyperparameters. You\n",
    "#     will get the chance to change these later.\n",
    "vocab_size = len(vocab)\n",
    "embedding_dim = 256\n",
    "hidden_size = 1024\n",
    "batch_size = 8\n",
    "\n",
    "device = torch.device(\"cuda\" if torch.cuda.is_available() else \"cpu\")\n",
    "\n",
    "model = LSTMModel(vocab_size, embedding_dim, hidden_size).to(device)\n",
    "\n",
    "# print out a summary of the model\n",
    "print(model)"
   ]
  },
  {
   "cell_type": "code",
   "execution_count": 13,
   "id": "e2437d8d",
   "metadata": {},
   "outputs": [
    {
     "name": "stdout",
     "output_type": "stream",
     "text": [
      "Input shape:       torch.Size([32, 100])  # (batch_size, sequence_length)\n",
      "Prediction shape:  torch.Size([32, 100, 83]) # (batch_size, sequence_length, vocab_size)\n"
     ]
    }
   ],
   "source": [
    "# Test the model with some sample data\n",
    "x, y = get_batch(vectorized_songs, seq_length=100, batch_size=32)\n",
    "x = x.to(device)\n",
    "y = y.to(device)\n",
    "\n",
    "pred = model(x)\n",
    "print(\"Input shape:      \", x.shape, \" # (batch_size, sequence_length)\")\n",
    "print(\"Prediction shape: \", pred.shape, \"# (batch_size, sequence_length, vocab_size)\")"
   ]
  },
  {
   "cell_type": "code",
   "execution_count": 14,
   "id": "22bfc261",
   "metadata": {},
   "outputs": [
    {
     "data": {
      "text/plain": [
       "array([42, 28, 16, 61, 17, 16, 39, 28, 24, 79, 59, 80,  0, 11, 15, 43, 53,\n",
       "       79, 42, 15, 55,  1, 41, 52, 21, 75, 63,  6,  9, 54, 29, 30, 52, 14,\n",
       "       75, 66, 61, 36, 15, 61, 50,  6, 38, 60, 44, 34, 12, 29, 29, 79, 11,\n",
       "       35, 54, 51, 64, 26, 48, 40, 77, 47,  6, 64, 79, 32, 70, 27, 14, 39,\n",
       "       27, 66, 31,  9, 26, 11, 39,  2, 70, 30, 42, 55,  5, 80, 68, 55, 48,\n",
       "       68, 12, 72, 29, 33, 62, 29, 72, 31, 69, 22, 22, 55,  2, 56])"
      ]
     },
     "execution_count": 14,
     "metadata": {},
     "output_type": "execute_result"
    }
   ],
   "source": [
    "sampled_indices = torch.multinomial(torch.softmax(pred[0], dim=-1), num_samples=1)\n",
    "sampled_indices = sampled_indices.squeeze(-1).cpu().numpy()\n",
    "sampled_indices"
   ]
  },
  {
   "cell_type": "code",
   "execution_count": 15,
   "id": "3c6e7730",
   "metadata": {},
   "outputs": [
    {
     "name": "stdout",
     "output_type": "stream",
     "text": [
      "Input: \n",
      " 'ilt\\nZ: id:dc-reel-99\\nM:C\\nL:1/8\\nK:D Major\\nB|A3F ABde|fedc dBB2|AFF2 ABde|fedc d3:|!\\ne|faa2 bafb|afef '\n",
      "\n",
      "Next Char Predictions: \n",
      " \"QC4f54NC=xdy\\n/3R]xQ3_ P[9th(-^DE[2tkfK3fY(MeSI0DDx/J^ZiAWOvV(ixGoB2NBkF-A/N!oEQ_'ym_Wm0qDHgDqFn::_!a\"\n"
     ]
    }
   ],
   "source": [
    "print(\"Input: \\n\", repr(\"\".join(idx2char[x[0].cpu()])))\n",
    "print()\n",
    "print(\"Next Char Predictions: \\n\", repr(\"\".join(idx2char[sampled_indices])))"
   ]
  },
  {
   "cell_type": "markdown",
   "id": "fda39066",
   "metadata": {},
   "source": [
    "As you can see, the text predicted by the untrained model is pretty nonsensical! How can we do better? Well, we can train the network!"
   ]
  },
  {
   "cell_type": "markdown",
   "id": "cbca7f17",
   "metadata": {},
   "source": [
    "## 2.5 Training the model: loss and training operations\n",
    "\n",
    "Now it's time to train the model!\n",
    "\n",
    "At this point, we can think of our next character prediction problem as a standard classification problem. Given the previous state of the RNN, as well as the input at a given time step, we want to predict the class of the next character -- that is, to actually predict the next character.\n",
    "\n",
    "To train our model on this classification task, we can use a form of the `crossentropy` loss (i.e., negative log likelihood loss). Specifically, we will use PyTorch's [`CrossEntropyLoss`](https://pytorch.org/docs/stable/generated/torch.nn.CrossEntropyLoss.html), as it combines the application of a log-softmax ([`LogSoftmax`](https://pytorch.org/docs/stable/generated/torch.nn.LogSoftmax.html#torch.nn.LogSoftmax)) and negative log-likelihood ([`NLLLoss`](https://pytorch.org/docs/stable/generated/torch.nn.NLLLoss.html#torch.nn.NLLLoss) in a single class and accepts integer targets for categorical classification tasks. We will want to compute the loss using the true targets -- the `labels` -- and the predicted targets -- the `logits`.\n",
    "\n",
    "Let's define a function to compute the loss, and then use that function to compute the loss using our example predictions from the untrained model."
   ]
  },
  {
   "cell_type": "code",
   "execution_count": 16,
   "id": "b5d850e3",
   "metadata": {},
   "outputs": [],
   "source": [
    "### Defining the loss function ###\n",
    "\n",
    "#     the true labels and predictions (logits). '''\n",
    "\n",
    "cross_entropy = nn.CrossEntropyLoss() # instantiates the function\n",
    "def compute_loss(labels, logits):\n",
    "    \"\"\"\n",
    "    Inputs:\n",
    "      labels: (batch_size, sequence_length)\n",
    "      logits: (batch_size, sequence_length, vocab_size)\n",
    "\n",
    "    Output:\n",
    "      loss: scalar cross entropy loss over the batch and sequence length\n",
    "    \"\"\"\n",
    "\n",
    "    # Batch the labels so that the shape of the labels should be (B * L,)\n",
    "    batched_labels = labels.view(-1)\n",
    "\n",
    "    vocab_size = logits.shape[2]\n",
    "    batched_logits = logits.reshape(-1, vocab_size)\n",
    "\n",
    "    loss = cross_entropy(batched_logits, batched_labels)\n",
    "    return loss"
   ]
  },
  {
   "cell_type": "code",
   "execution_count": null,
   "id": "0023f104",
   "metadata": {},
   "outputs": [
    {
     "name": "stdout",
     "output_type": "stream",
     "text": [
      "Prediction shape: torch.Size([32, 100, 83]) # (batch_size, sequence_length, vocab_size)\n",
      "scalar_loss:      4.420446872711182\n"
     ]
    }
   ],
   "source": [
    "### compute the loss on the predictions from the untrained model from earlier. ###\n",
    "y.shape  # (batch_size, sequence_length)\n",
    "pred.shape  # (batch_size, sequence_length, vocab_size)\n",
    "\n",
    "example_batch_loss = compute_loss(y, pred) \n",
    "\n",
    "print(f\"Prediction shape: {pred.shape} # (batch_size, sequence_length, vocab_size)\")\n",
    "print(f\"scalar_loss:      {example_batch_loss.mean().item()}\")"
   ]
  },
  {
   "cell_type": "code",
   "execution_count": 18,
   "id": "54814334",
   "metadata": {},
   "outputs": [],
   "source": [
    "### Hyperparameter setting and optimization ###\n",
    "\n",
    "vocab_size = len(vocab)\n",
    "\n",
    "# Model parameters:\n",
    "params = dict(\n",
    "  num_training_iterations = 3000,  # Increase this to train longer\n",
    "  batch_size = 8,  # Experiment between 1 and 64\n",
    "  seq_length = 100,  # Experiment between 50 and 500\n",
    "  learning_rate = 5e-3,  # Experiment between 1e-5 and 1e-1\n",
    "  embedding_dim = 256,\n",
    "  hidden_size = 1024,  # Experiment between 1 and 2048\n",
    ")\n",
    "\n",
    "# Checkpoint location:\n",
    "checkpoint_dir = './training_checkpoints'\n",
    "checkpoint_prefix = os.path.join(checkpoint_dir, \"my_ckpt\")\n",
    "os.makedirs(checkpoint_dir, exist_ok=True)"
   ]
  },
  {
   "cell_type": "code",
   "execution_count": 19,
   "id": "cbc17ac1",
   "metadata": {},
   "outputs": [],
   "source": [
    "### Create a Comet experiment to track our training run ###\n",
    "\n",
    "def create_experiment():\n",
    "  # end any prior experiments\n",
    "  if 'experiment' in locals():\n",
    "    experiment.end()\n",
    "\n",
    "  # initiate the comet experiment for tracking\n",
    "  experiment = comet_ml.Experiment(\n",
    "                  api_key=COMET_API_KEY,\n",
    "                  project_name=\"6S191_Lab1_Part2\")\n",
    "  # log our hyperparameters, defined above, to the experiment\n",
    "  for param, value in params.items():\n",
    "    experiment.log_parameter(param, value)\n",
    "  experiment.flush()\n",
    "\n",
    "  return experiment\n"
   ]
  },
  {
   "cell_type": "code",
   "execution_count": null,
   "id": "2ad8ce1c",
   "metadata": {},
   "outputs": [
    {
     "data": {
      "image/png": "[encoded data removed]",
      "text/plain": [
       "<Figure size 640x480 with 1 Axes>"
      ]
     },
     "metadata": {},
     "output_type": "display_data"
    },
    {
     "name": "stderr",
     "output_type": "stream",
     "text": [
      "100%|██████████| 3000/3000 [00:56<00:00, 52.70it/s]\n",
      "\u001b[1;38;5;39mCOMET INFO:\u001b[0m Uploading 6576 metrics, params and output messages\n",
      "\u001b[1;38;5;39mCOMET INFO:\u001b[0m Waiting for remaining data to be uploaded to Comet. 6 messages remaining.\n"
     ]
    },
    {
     "data": {
      "text/plain": [
       "True"
      ]
     },
     "execution_count": 20,
     "metadata": {},
     "output_type": "execute_result"
    },
    {
     "data": {
      "image/png": "[encoded data removed]",
      "text/plain": [
       "<Figure size 640x480 with 1 Axes>"
      ]
     },
     "metadata": {},
     "output_type": "display_data"
    }
   ],
   "source": [
    "### Define optimizer and training operation ###\n",
    "\n",
    "vocab_size = len(vocab)\n",
    "embedding_dim = 256\n",
    "hidden_size = 1024\n",
    "model = LSTMModel(vocab_size, embedding_dim, hidden_size)\n",
    "\n",
    "# Move the model to the GPU\n",
    "model.to(device)\n",
    "\n",
    "optimizer = torch.optim.Adam(model.parameters(), lr=0.001)\n",
    "\n",
    "def train_step(x, y):\n",
    "  # Set the model's mode to train\n",
    "  model.train()\n",
    "\n",
    "  # Zero gradients for every step\n",
    "  optimizer.zero_grad()\n",
    "\n",
    "  # Forward pass\n",
    "  y_hat = model(x)\n",
    "\n",
    "  # Compute the loss\n",
    "  loss = compute_loss(y, y_hat)\n",
    "\n",
    "  # Backward pass\n",
    "  loss.backward()\n",
    "  optimizer.step()\n",
    "\n",
    "  return loss\n",
    "\n",
    "##################\n",
    "# Begin training!#\n",
    "##################\n",
    "\n",
    "history = []\n",
    "plotter = mdl.util.PeriodicPlotter(sec=2, xlabel='Iterations', ylabel='Loss')\n",
    "experiment = create_experiment()\n",
    "\n",
    "if hasattr(tqdm, '_instances'): tqdm._instances.clear() # clear if it exists\n",
    "for iter in tqdm(range(params[\"num_training_iterations\"])):\n",
    "\n",
    "    # Grab a batch and propagate it through the network\n",
    "    x_batch, y_batch = get_batch(vectorized_songs, params[\"seq_length\"], params[\"batch_size\"])\n",
    "\n",
    "    # Convert numpy arrays to PyTorch tensors\n",
    "    x_batch = torch.tensor(x_batch, dtype=torch.long).to(device)\n",
    "    y_batch = torch.tensor(y_batch, dtype=torch.long).to(device)\n",
    "\n",
    "    # Take a train step\n",
    "    loss = train_step(x_batch, y_batch)\n",
    "\n",
    "    # Log the loss to the Comet interface\n",
    "    experiment.log_metric(\"loss\", loss.item(), step=iter)\n",
    "\n",
    "    # Update the progress bar and visualize within notebook\n",
    "    history.append(loss.item())\n",
    "    plotter.plot(history)\n",
    "\n",
    "    # Save model checkpoint\n",
    "    if iter % 100 == 0:\n",
    "        torch.save(model.state_dict(), checkpoint_prefix)\n",
    "\n",
    "# Save the final trained model\n",
    "torch.save(model.state_dict(), checkpoint_prefix)\n",
    "experiment.flush()\n"
   ]
  },
  {
   "cell_type": "code",
   "execution_count": 22,
   "id": "aa8eab3c",
   "metadata": {},
   "outputs": [],
   "source": [
    "def generate_text(model, start_string, generation_length=1000):\n",
    "    # Convert start string to indices\n",
    "    input_idx = torch.tensor([[char2idx[s] for s in start_string]], dtype=torch.long).to(device)\n",
    "\n",
    "    # Initialize hidden state\n",
    "    state = model.init_hidden(input_idx.size(0), device)\n",
    "\n",
    "    # Store generated text\n",
    "    text_generated = list(start_string)\n",
    "    tqdm._instances.clear()\n",
    "\n",
    "    for i in tqdm(range(generation_length)):\n",
    "        # Forward pass\n",
    "        predictions, state = model(input_idx, state, return_state=True)\n",
    "\n",
    "        # Take only the last timestep\n",
    "        predictions = predictions[:, -1, :]  # (batch, vocab_size)\n",
    "        probs = torch.softmax(predictions, dim=-1)\n",
    "\n",
    "        # Sample next character\n",
    "        input_idx = torch.multinomial(probs, num_samples=1)  # (batch, 1)\n",
    "\n",
    "        # Convert to character and append\n",
    "        predicted_char = idx2char[input_idx.item()]\n",
    "        text_generated.append(predicted_char)\n",
    "\n",
    "    return ''.join(text_generated)"
   ]
  },
  {
   "cell_type": "code",
   "execution_count": 23,
   "id": "a66dfc39",
   "metadata": {},
   "outputs": [
    {
     "name": "stderr",
     "output_type": "stream",
     "text": [
      "100%|██████████| 1000/1000 [00:00<00:00, 3729.44it/s]"
     ]
    },
    {
     "name": "stdout",
     "output_type": "stream",
     "text": [
      "X:25\n",
      "T:Boys of Grevsomust\n",
      "Z: id:dc-reel-210\n",
      "M:C\n",
      "L:1/8\n",
      "K:G Major\n",
      "D2|GABG AGEG|c3A B2AB|cAFA G2FG|AGFA G2:|!\n",
      "AG|FGAF GBAG|F2AF GFGB|A2FA G2eg|fdcA BGAF|!\n",
      "DGG2 DGBd|GBdg ecAF|GBdB cAFG|(3ABA GF G2:|!\n",
      "dg|fded cAAe|fdge fdec|dfeg fdAF|GBAG FDDe|!\n",
      "fded cAA2|fdd2 fded|Add2 fd^cd|efge ^d2Ad|!\n",
      "d2fd fdfd|ed^cd efge|afge defd|gabg eged|]!\n",
      "\n",
      "X:73\n",
      "T:Ducky's\n",
      "Z: id:dc-jig-112\n",
      "M:6/8\n",
      "L:1/8\n",
      "K:D Major\n",
      "Bc|dFF2 AFDF|Addc dcBA|BdcA BdcB|ABcd BGG2:|!\n",
      "dgbg agfd|cABG AGEG|DGG2 AGAB|c3A B2d2|!\n",
      "efg2 efge|d2cA GEE2|D2FA GFD2|de (3cde (3fgf (3ece|f2df e2ce|dcBA F2F2|!\n",
      "a2f2 g2fe|d2g2 e2g2|f4 e2e2|f4\n",
      "E|F2F2 GEDF|A2ce dcBA|G2A2 G3A|G2FA G4|]!\n",
      "\n",
      "X:268\n",
      "T:New Chipzer\n",
      "Z: id:dc-reel-171\n",
      "M:C\n",
      "L:1/8\n",
      "K:D Major\n",
      "A2FA DAFA|B2AF EFGB|AFDE FDAB|c3B cdef|!\n",
      "g2fg edBc|dcBA F2A2|gfed cBAG|F2E2 E2:|!\n",
      "FG|A2GA BAGF|GABc d2de|f2ed cBAc|d2f2 d2:|!\n",
      "fe|d2fd c2ec|d2cB cBAG|(3Bcd cBAG|F2 A2F|EDB,A, D4|]!\n",
      "\n",
      "X:8\n",
      "T:Duke of Leinster\n",
      "Z: id:dc-slipjig-11\n",
      "M:9/8\n",
      "L:1/8\n",
      "K:D Mixolydian\n",
      "E|FED EFG|ABG FEF|G3 G2D|GAG Gdc|!\n",
      "B2G A2G|FDF AGF|G3 G2E|EGFE D2:|!\n",
      "FA|d\n"
     ]
    },
    {
     "name": "stderr",
     "output_type": "stream",
     "text": [
      "\n"
     ]
    }
   ],
   "source": [
    "# Execute the function to generate text\n",
    "generated_text = generate_text(model, \"X\", 1000)\n",
    "print(generated_text)"
   ]
  },
  {
   "cell_type": "code",
   "execution_count": 2,
   "id": "d0d40f99",
   "metadata": {},
   "outputs": [],
   "source": [
    "### Play back generated songs ###\n",
    "\n",
    "# generated_songs = mdl.lab1.extract_song_snippet(generated_text)\n",
    "\n",
    "# for i, song in enumerate(generated_songs):\n",
    "#   # Synthesize the waveform from a song\n",
    "#   waveform = mdl.lab1.play_song(song)\n",
    "\n",
    "#   # If its a valid song (correct syntax), lets play it!\n",
    "#   if waveform:\n",
    "#     print(\"Generated song\", i)\n",
    "#     ipythondisplay.display(waveform)\n",
    "\n",
    "#     numeric_data = np.frombuffer(waveform.data, dtype=np.int16)\n",
    "#     wav_file_path = f\"output_{i}.wav\"\n",
    "#     write(wav_file_path, 88200, numeric_data)\n",
    "\n",
    "#     # save your song to the Comet interface -- you can access it there\n",
    "#     experiment.log_asset(wav_file_path)"
   ]
  },
  {
   "cell_type": "code",
   "execution_count": 25,
   "id": "2f24d9c2",
   "metadata": {},
   "outputs": [
    {
     "name": "stderr",
     "output_type": "stream",
     "text": [
      "\u001b[1;38;5;39mCOMET INFO:\u001b[0m ---------------------------------------------------------------------------------------\n",
      "\u001b[1;38;5;39mCOMET INFO:\u001b[0m Comet.ml Experiment Summary\n",
      "\u001b[1;38;5;39mCOMET INFO:\u001b[0m ---------------------------------------------------------------------------------------\n",
      "\u001b[1;38;5;39mCOMET INFO:\u001b[0m   Data:\n",
      "\u001b[1;38;5;39mCOMET INFO:\u001b[0m     display_summary_level : 1\n",
      "\u001b[1;38;5;39mCOMET INFO:\u001b[0m     name                  : sorry_deer_9807\n",
      "\u001b[1;38;5;39mCOMET INFO:\u001b[0m     url                   : https://www.comet.com/fahimeh-baftizadeh/6s191-lab1-part2/2b685f370cd642b7b4c9ebc92f5e9d91\n",
      "\u001b[1;38;5;39mCOMET INFO:\u001b[0m   Metrics [count] (min, max):\n",
      "\u001b[1;38;5;39mCOMET INFO:\u001b[0m     loss [3300] : (0.3627433776855469, 4.420782566070557)\n",
      "\u001b[1;38;5;39mCOMET INFO:\u001b[0m   Parameters:\n",
      "\u001b[1;38;5;39mCOMET INFO:\u001b[0m     batch_size              : 8\n",
      "\u001b[1;38;5;39mCOMET INFO:\u001b[0m     embedding_dim           : 256\n",
      "\u001b[1;38;5;39mCOMET INFO:\u001b[0m     hidden_size             : 1024\n",
      "\u001b[1;38;5;39mCOMET INFO:\u001b[0m     learning_rate           : 0.005\n",
      "\u001b[1;38;5;39mCOMET INFO:\u001b[0m     num_training_iterations : 3000\n",
      "\u001b[1;38;5;39mCOMET INFO:\u001b[0m     seq_length              : 100\n",
      "\u001b[1;38;5;39mCOMET INFO:\u001b[0m   Uploads:\n",
      "\u001b[1;38;5;39mCOMET INFO:\u001b[0m     asset                        : 3 (31.46 MB)\n",
      "\u001b[1;38;5;39mCOMET INFO:\u001b[0m     conda-environment-definition : 1\n",
      "\u001b[1;38;5;39mCOMET INFO:\u001b[0m     conda-info                   : 1\n",
      "\u001b[1;38;5;39mCOMET INFO:\u001b[0m     conda-specification          : 1\n",
      "\u001b[1;38;5;39mCOMET INFO:\u001b[0m     environment details          : 1\n",
      "\u001b[1;38;5;39mCOMET INFO:\u001b[0m     filename                     : 1\n",
      "\u001b[1;38;5;39mCOMET INFO:\u001b[0m     installed packages           : 1\n",
      "\u001b[1;38;5;39mCOMET INFO:\u001b[0m     notebook                     : 1\n",
      "\u001b[1;38;5;39mCOMET INFO:\u001b[0m     os packages                  : 1\n",
      "\u001b[1;38;5;39mCOMET INFO:\u001b[0m     source_code                  : 1\n",
      "\u001b[1;38;5;39mCOMET INFO:\u001b[0m \n",
      "\u001b[1;38;5;39mCOMET INFO:\u001b[0m Please wait for metadata to finish uploading (timeout is 3600 seconds)\n",
      "\u001b[1;38;5;39mCOMET INFO:\u001b[0m Uploading 28 metrics, params and output messages\n"
     ]
    }
   ],
   "source": [
    "# when done, end the comet experiment\n",
    "experiment.end()"
   ]
  },
  {
   "cell_type": "markdown",
   "id": "37a7d82f",
   "metadata": {},
   "source": []
  }
 ],
 "metadata": {
  "kernelspec": {
   "display_name": "mlprac",
   "language": "python",
   "name": "python3"
  },
  "language_info": {
   "codemirror_mode": {
    "name": "ipython",
    "version": 3
   },
   "file_extension": ".py",
   "mimetype": "text/x-python",
   "name": "python",
   "nbconvert_exporter": "python",
   "pygments_lexer": "ipython3",
   "version": "3.10.18"
  }
 },
 "nbformat": 4,
 "nbformat_minor": 5
}
